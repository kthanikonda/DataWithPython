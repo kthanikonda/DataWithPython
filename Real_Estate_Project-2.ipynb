{
  "nbformat": 4,
  "nbformat_minor": 0,
  "metadata": {
    "colab": {
      "provenance": [],
      "authorship_tag": "ABX9TyN9/5OAJPDEQaXyZE4ugsme",
      "include_colab_link": true
    },
    "kernelspec": {
      "name": "python3",
      "display_name": "Python 3"
    },
    "language_info": {
      "name": "python"
    }
  },
  "cells": [
    {
      "cell_type": "markdown",
      "metadata": {
        "id": "view-in-github",
        "colab_type": "text"
      },
      "source": [
        "<a href=\"https://colab.research.google.com/github/kthanikonda/DataWithPython/blob/main/Real_Estate_Project-2.ipynb\" target=\"_parent\"><img src=\"https://colab.research.google.com/assets/colab-badge.svg\" alt=\"Open In Colab\"/></a>"
      ]
    },
    {
      "cell_type": "markdown",
      "source": [
        "# 1. Dataset Selection and Initial Exploration\n",
        "\n",
        "**Dataset:** Real Estate Sales Data (2001-2022)\n",
        "\n",
        "**Source:** https://www.kaggle.com/datasets/omniamahmoudsaeed/real-estate-sales-2001-2022\n",
        "\n",
        "**About Dataset:** This dataset provides detailed information about property sales over two decades, from 2001 to 2022. It contains records of property transactions, including the town of sale, sale amounts, assessed values, property types, and remarks from assessors. The dataset is suitable for analyzing real estate trends, valuation accuracy, and geographic property distributions.\n",
        "\n",
        "### About the Columns in the Dataset\n",
        "\n",
        "This dataset contains information about property sales. Below is what each column represents:\n",
        "\n",
        "1. **Serial Number -** A unique ID for each property.  \n",
        "2. **List Year -** The year the property was listed for sale.  \n",
        "3. **Date Recorded -** When the sale was officially recorded.  \n",
        "4. **Town -** The city or town where the property is located.  \n",
        "5. **Address -** The street address of the property.  \n",
        "6. **Assessed Value -** The value assigned for tax purposes.  \n",
        "7. **Sale Amount -** The actual price the property sold for.  \n",
        "8. **Sales Ratio -** Compares the sale price to the assessed value.  \n",
        "9. **Property Type -** The type of property (e.g., Residential, Commercial).  \n",
        "10. **Residential Type -** If residential, the specific type (e.g., Single Family).  \n",
        "11. **Non Use Code -** Codes for properties not typically used (e.g., vacant land).  \n",
        "12. **Assessor Remarks -** Additional notes from the assessor.  \n",
        "13. **OPM Remarks -** Notes from the Office of Property Management.  \n",
        "14. **Location -** The exact geographic coordinates (latitude and longitude).\n",
        "\n"
      ],
      "metadata": {
        "id": "rXm6-HFHyA9Y"
      }
    },
    {
      "cell_type": "markdown",
      "source": [
        "# 2. Importing the Dataset into Colab\n",
        "\n",
        "*   To begin the analysis, we first upload the dataset to Google Colab using the `files.upload()` method provided by `google.colab`. After uploading, we read the dataset using `pandas` and `pd.read_csv`.\n",
        "*   We display the first few rows to get an initial idea of what the data looks like using `df.head()`\n"
      ],
      "metadata": {
        "id": "9JtJWY6H0hhh"
      }
    },
    {
      "cell_type": "code",
      "execution_count": 12,
      "metadata": {
        "colab": {
          "base_uri": "https://localhost:8080/",
          "height": 73
        },
        "id": "ihPdoreJxwmy",
        "outputId": "279c0c76-3a45-4ad0-db7d-3c3e3d7d099e"
      },
      "outputs": [
        {
          "output_type": "display_data",
          "data": {
            "text/plain": [
              "<IPython.core.display.HTML object>"
            ],
            "text/html": [
              "\n",
              "     <input type=\"file\" id=\"files-9e4e4a17-684a-4a82-b4b8-ef598b94cf07\" name=\"files[]\" multiple disabled\n",
              "        style=\"border:none\" />\n",
              "     <output id=\"result-9e4e4a17-684a-4a82-b4b8-ef598b94cf07\">\n",
              "      Upload widget is only available when the cell has been executed in the\n",
              "      current browser session. Please rerun this cell to enable.\n",
              "      </output>\n",
              "      <script>// Copyright 2017 Google LLC\n",
              "//\n",
              "// Licensed under the Apache License, Version 2.0 (the \"License\");\n",
              "// you may not use this file except in compliance with the License.\n",
              "// You may obtain a copy of the License at\n",
              "//\n",
              "//      http://www.apache.org/licenses/LICENSE-2.0\n",
              "//\n",
              "// Unless required by applicable law or agreed to in writing, software\n",
              "// distributed under the License is distributed on an \"AS IS\" BASIS,\n",
              "// WITHOUT WARRANTIES OR CONDITIONS OF ANY KIND, either express or implied.\n",
              "// See the License for the specific language governing permissions and\n",
              "// limitations under the License.\n",
              "\n",
              "/**\n",
              " * @fileoverview Helpers for google.colab Python module.\n",
              " */\n",
              "(function(scope) {\n",
              "function span(text, styleAttributes = {}) {\n",
              "  const element = document.createElement('span');\n",
              "  element.textContent = text;\n",
              "  for (const key of Object.keys(styleAttributes)) {\n",
              "    element.style[key] = styleAttributes[key];\n",
              "  }\n",
              "  return element;\n",
              "}\n",
              "\n",
              "// Max number of bytes which will be uploaded at a time.\n",
              "const MAX_PAYLOAD_SIZE = 100 * 1024;\n",
              "\n",
              "function _uploadFiles(inputId, outputId) {\n",
              "  const steps = uploadFilesStep(inputId, outputId);\n",
              "  const outputElement = document.getElementById(outputId);\n",
              "  // Cache steps on the outputElement to make it available for the next call\n",
              "  // to uploadFilesContinue from Python.\n",
              "  outputElement.steps = steps;\n",
              "\n",
              "  return _uploadFilesContinue(outputId);\n",
              "}\n",
              "\n",
              "// This is roughly an async generator (not supported in the browser yet),\n",
              "// where there are multiple asynchronous steps and the Python side is going\n",
              "// to poll for completion of each step.\n",
              "// This uses a Promise to block the python side on completion of each step,\n",
              "// then passes the result of the previous step as the input to the next step.\n",
              "function _uploadFilesContinue(outputId) {\n",
              "  const outputElement = document.getElementById(outputId);\n",
              "  const steps = outputElement.steps;\n",
              "\n",
              "  const next = steps.next(outputElement.lastPromiseValue);\n",
              "  return Promise.resolve(next.value.promise).then((value) => {\n",
              "    // Cache the last promise value to make it available to the next\n",
              "    // step of the generator.\n",
              "    outputElement.lastPromiseValue = value;\n",
              "    return next.value.response;\n",
              "  });\n",
              "}\n",
              "\n",
              "/**\n",
              " * Generator function which is called between each async step of the upload\n",
              " * process.\n",
              " * @param {string} inputId Element ID of the input file picker element.\n",
              " * @param {string} outputId Element ID of the output display.\n",
              " * @return {!Iterable<!Object>} Iterable of next steps.\n",
              " */\n",
              "function* uploadFilesStep(inputId, outputId) {\n",
              "  const inputElement = document.getElementById(inputId);\n",
              "  inputElement.disabled = false;\n",
              "\n",
              "  const outputElement = document.getElementById(outputId);\n",
              "  outputElement.innerHTML = '';\n",
              "\n",
              "  const pickedPromise = new Promise((resolve) => {\n",
              "    inputElement.addEventListener('change', (e) => {\n",
              "      resolve(e.target.files);\n",
              "    });\n",
              "  });\n",
              "\n",
              "  const cancel = document.createElement('button');\n",
              "  inputElement.parentElement.appendChild(cancel);\n",
              "  cancel.textContent = 'Cancel upload';\n",
              "  const cancelPromise = new Promise((resolve) => {\n",
              "    cancel.onclick = () => {\n",
              "      resolve(null);\n",
              "    };\n",
              "  });\n",
              "\n",
              "  // Wait for the user to pick the files.\n",
              "  const files = yield {\n",
              "    promise: Promise.race([pickedPromise, cancelPromise]),\n",
              "    response: {\n",
              "      action: 'starting',\n",
              "    }\n",
              "  };\n",
              "\n",
              "  cancel.remove();\n",
              "\n",
              "  // Disable the input element since further picks are not allowed.\n",
              "  inputElement.disabled = true;\n",
              "\n",
              "  if (!files) {\n",
              "    return {\n",
              "      response: {\n",
              "        action: 'complete',\n",
              "      }\n",
              "    };\n",
              "  }\n",
              "\n",
              "  for (const file of files) {\n",
              "    const li = document.createElement('li');\n",
              "    li.append(span(file.name, {fontWeight: 'bold'}));\n",
              "    li.append(span(\n",
              "        `(${file.type || 'n/a'}) - ${file.size} bytes, ` +\n",
              "        `last modified: ${\n",
              "            file.lastModifiedDate ? file.lastModifiedDate.toLocaleDateString() :\n",
              "                                    'n/a'} - `));\n",
              "    const percent = span('0% done');\n",
              "    li.appendChild(percent);\n",
              "\n",
              "    outputElement.appendChild(li);\n",
              "\n",
              "    const fileDataPromise = new Promise((resolve) => {\n",
              "      const reader = new FileReader();\n",
              "      reader.onload = (e) => {\n",
              "        resolve(e.target.result);\n",
              "      };\n",
              "      reader.readAsArrayBuffer(file);\n",
              "    });\n",
              "    // Wait for the data to be ready.\n",
              "    let fileData = yield {\n",
              "      promise: fileDataPromise,\n",
              "      response: {\n",
              "        action: 'continue',\n",
              "      }\n",
              "    };\n",
              "\n",
              "    // Use a chunked sending to avoid message size limits. See b/62115660.\n",
              "    let position = 0;\n",
              "    do {\n",
              "      const length = Math.min(fileData.byteLength - position, MAX_PAYLOAD_SIZE);\n",
              "      const chunk = new Uint8Array(fileData, position, length);\n",
              "      position += length;\n",
              "\n",
              "      const base64 = btoa(String.fromCharCode.apply(null, chunk));\n",
              "      yield {\n",
              "        response: {\n",
              "          action: 'append',\n",
              "          file: file.name,\n",
              "          data: base64,\n",
              "        },\n",
              "      };\n",
              "\n",
              "      let percentDone = fileData.byteLength === 0 ?\n",
              "          100 :\n",
              "          Math.round((position / fileData.byteLength) * 100);\n",
              "      percent.textContent = `${percentDone}% done`;\n",
              "\n",
              "    } while (position < fileData.byteLength);\n",
              "  }\n",
              "\n",
              "  // All done.\n",
              "  yield {\n",
              "    response: {\n",
              "      action: 'complete',\n",
              "    }\n",
              "  };\n",
              "}\n",
              "\n",
              "scope.google = scope.google || {};\n",
              "scope.google.colab = scope.google.colab || {};\n",
              "scope.google.colab._files = {\n",
              "  _uploadFiles,\n",
              "  _uploadFilesContinue,\n",
              "};\n",
              "})(self);\n",
              "</script> "
            ]
          },
          "metadata": {}
        },
        {
          "output_type": "stream",
          "name": "stdout",
          "text": [
            "Saving Real_Estate_Sales_2001-2022_GL.csv to Real_Estate_Sales_2001-2022_GL.csv\n"
          ]
        }
      ],
      "source": [
        "from google.colab import files\n",
        "import os\n",
        "\n",
        "uploaded = files.upload()"
      ]
    },
    {
      "cell_type": "code",
      "source": [
        "import pandas as pd\n",
        "\n",
        "df = pd.read_csv(\"Real_Estate_Sales_2001-2022_GL.csv\")\n",
        "\n",
        "df.head()"
      ],
      "metadata": {
        "colab": {
          "base_uri": "https://localhost:8080/",
          "height": 451
        },
        "id": "Ulp-hIT50RBv",
        "outputId": "575e7dcd-a9a9-4924-e619-4d8169ed47b9"
      },
      "execution_count": 13,
      "outputs": [
        {
          "output_type": "stream",
          "name": "stderr",
          "text": [
            "<ipython-input-13-50b421269604>:3: DtypeWarning: Columns (8,9,10,11,12) have mixed types. Specify dtype option on import or set low_memory=False.\n",
            "  df = pd.read_csv(\"Real_Estate_Sales_2001-2022_GL.csv\")\n"
          ]
        },
        {
          "output_type": "execute_result",
          "data": {
            "text/plain": [
              "   Serial Number  List Year Date Recorded     Town          Address  \\\n",
              "0        2020177       2020    04/14/2021  Ansonia    323 BEAVER ST   \n",
              "1        2020225       2020    05/26/2021  Ansonia   152 JACKSON ST   \n",
              "2        2020348       2020    09/13/2021  Ansonia  230 WAKELEE AVE   \n",
              "3        2020090       2020    12/14/2020  Ansonia      57 PLATT ST   \n",
              "4         210288       2021    06/20/2022     Avon   12 BYRON DRIVE   \n",
              "\n",
              "   Assessed Value  Sale Amount  Sales Ratio Property Type Residential Type  \\\n",
              "0        133000.0     248400.0       0.5354   Residential    Single Family   \n",
              "1        110500.0     239900.0       0.4606   Residential     Three Family   \n",
              "2        150500.0     325000.0       0.4630    Commercial              NaN   \n",
              "3        127400.0     202500.0       0.6291   Residential       Two Family   \n",
              "4        179990.0     362500.0       0.4965   Residential            Condo   \n",
              "\n",
              "  Non Use Code Assessor Remarks OPM remarks  \\\n",
              "0          NaN              NaN         NaN   \n",
              "1          NaN              NaN         NaN   \n",
              "2          NaN              NaN         NaN   \n",
              "3          NaN              NaN         NaN   \n",
              "4          NaN              NaN         NaN   \n",
              "\n",
              "                             Location  \n",
              "0          POINT (-73.06822 41.35014)  \n",
              "1                                 NaN  \n",
              "2                                 NaN  \n",
              "3                                 NaN  \n",
              "4  POINT (-72.879115982 41.773452988)  "
            ],
            "text/html": [
              "\n",
              "  <div id=\"df-161fae16-d423-4c3f-b161-f0ef0b1b2f09\" class=\"colab-df-container\">\n",
              "    <div>\n",
              "<style scoped>\n",
              "    .dataframe tbody tr th:only-of-type {\n",
              "        vertical-align: middle;\n",
              "    }\n",
              "\n",
              "    .dataframe tbody tr th {\n",
              "        vertical-align: top;\n",
              "    }\n",
              "\n",
              "    .dataframe thead th {\n",
              "        text-align: right;\n",
              "    }\n",
              "</style>\n",
              "<table border=\"1\" class=\"dataframe\">\n",
              "  <thead>\n",
              "    <tr style=\"text-align: right;\">\n",
              "      <th></th>\n",
              "      <th>Serial Number</th>\n",
              "      <th>List Year</th>\n",
              "      <th>Date Recorded</th>\n",
              "      <th>Town</th>\n",
              "      <th>Address</th>\n",
              "      <th>Assessed Value</th>\n",
              "      <th>Sale Amount</th>\n",
              "      <th>Sales Ratio</th>\n",
              "      <th>Property Type</th>\n",
              "      <th>Residential Type</th>\n",
              "      <th>Non Use Code</th>\n",
              "      <th>Assessor Remarks</th>\n",
              "      <th>OPM remarks</th>\n",
              "      <th>Location</th>\n",
              "    </tr>\n",
              "  </thead>\n",
              "  <tbody>\n",
              "    <tr>\n",
              "      <th>0</th>\n",
              "      <td>2020177</td>\n",
              "      <td>2020</td>\n",
              "      <td>04/14/2021</td>\n",
              "      <td>Ansonia</td>\n",
              "      <td>323 BEAVER ST</td>\n",
              "      <td>133000.0</td>\n",
              "      <td>248400.0</td>\n",
              "      <td>0.5354</td>\n",
              "      <td>Residential</td>\n",
              "      <td>Single Family</td>\n",
              "      <td>NaN</td>\n",
              "      <td>NaN</td>\n",
              "      <td>NaN</td>\n",
              "      <td>POINT (-73.06822 41.35014)</td>\n",
              "    </tr>\n",
              "    <tr>\n",
              "      <th>1</th>\n",
              "      <td>2020225</td>\n",
              "      <td>2020</td>\n",
              "      <td>05/26/2021</td>\n",
              "      <td>Ansonia</td>\n",
              "      <td>152 JACKSON ST</td>\n",
              "      <td>110500.0</td>\n",
              "      <td>239900.0</td>\n",
              "      <td>0.4606</td>\n",
              "      <td>Residential</td>\n",
              "      <td>Three Family</td>\n",
              "      <td>NaN</td>\n",
              "      <td>NaN</td>\n",
              "      <td>NaN</td>\n",
              "      <td>NaN</td>\n",
              "    </tr>\n",
              "    <tr>\n",
              "      <th>2</th>\n",
              "      <td>2020348</td>\n",
              "      <td>2020</td>\n",
              "      <td>09/13/2021</td>\n",
              "      <td>Ansonia</td>\n",
              "      <td>230 WAKELEE AVE</td>\n",
              "      <td>150500.0</td>\n",
              "      <td>325000.0</td>\n",
              "      <td>0.4630</td>\n",
              "      <td>Commercial</td>\n",
              "      <td>NaN</td>\n",
              "      <td>NaN</td>\n",
              "      <td>NaN</td>\n",
              "      <td>NaN</td>\n",
              "      <td>NaN</td>\n",
              "    </tr>\n",
              "    <tr>\n",
              "      <th>3</th>\n",
              "      <td>2020090</td>\n",
              "      <td>2020</td>\n",
              "      <td>12/14/2020</td>\n",
              "      <td>Ansonia</td>\n",
              "      <td>57 PLATT ST</td>\n",
              "      <td>127400.0</td>\n",
              "      <td>202500.0</td>\n",
              "      <td>0.6291</td>\n",
              "      <td>Residential</td>\n",
              "      <td>Two Family</td>\n",
              "      <td>NaN</td>\n",
              "      <td>NaN</td>\n",
              "      <td>NaN</td>\n",
              "      <td>NaN</td>\n",
              "    </tr>\n",
              "    <tr>\n",
              "      <th>4</th>\n",
              "      <td>210288</td>\n",
              "      <td>2021</td>\n",
              "      <td>06/20/2022</td>\n",
              "      <td>Avon</td>\n",
              "      <td>12 BYRON DRIVE</td>\n",
              "      <td>179990.0</td>\n",
              "      <td>362500.0</td>\n",
              "      <td>0.4965</td>\n",
              "      <td>Residential</td>\n",
              "      <td>Condo</td>\n",
              "      <td>NaN</td>\n",
              "      <td>NaN</td>\n",
              "      <td>NaN</td>\n",
              "      <td>POINT (-72.879115982 41.773452988)</td>\n",
              "    </tr>\n",
              "  </tbody>\n",
              "</table>\n",
              "</div>\n",
              "    <div class=\"colab-df-buttons\">\n",
              "\n",
              "  <div class=\"colab-df-container\">\n",
              "    <button class=\"colab-df-convert\" onclick=\"convertToInteractive('df-161fae16-d423-4c3f-b161-f0ef0b1b2f09')\"\n",
              "            title=\"Convert this dataframe to an interactive table.\"\n",
              "            style=\"display:none;\">\n",
              "\n",
              "  <svg xmlns=\"http://www.w3.org/2000/svg\" height=\"24px\" viewBox=\"0 -960 960 960\">\n",
              "    <path d=\"M120-120v-720h720v720H120Zm60-500h600v-160H180v160Zm220 220h160v-160H400v160Zm0 220h160v-160H400v160ZM180-400h160v-160H180v160Zm440 0h160v-160H620v160ZM180-180h160v-160H180v160Zm440 0h160v-160H620v160Z\"/>\n",
              "  </svg>\n",
              "    </button>\n",
              "\n",
              "  <style>\n",
              "    .colab-df-container {\n",
              "      display:flex;\n",
              "      gap: 12px;\n",
              "    }\n",
              "\n",
              "    .colab-df-convert {\n",
              "      background-color: #E8F0FE;\n",
              "      border: none;\n",
              "      border-radius: 50%;\n",
              "      cursor: pointer;\n",
              "      display: none;\n",
              "      fill: #1967D2;\n",
              "      height: 32px;\n",
              "      padding: 0 0 0 0;\n",
              "      width: 32px;\n",
              "    }\n",
              "\n",
              "    .colab-df-convert:hover {\n",
              "      background-color: #E2EBFA;\n",
              "      box-shadow: 0px 1px 2px rgba(60, 64, 67, 0.3), 0px 1px 3px 1px rgba(60, 64, 67, 0.15);\n",
              "      fill: #174EA6;\n",
              "    }\n",
              "\n",
              "    .colab-df-buttons div {\n",
              "      margin-bottom: 4px;\n",
              "    }\n",
              "\n",
              "    [theme=dark] .colab-df-convert {\n",
              "      background-color: #3B4455;\n",
              "      fill: #D2E3FC;\n",
              "    }\n",
              "\n",
              "    [theme=dark] .colab-df-convert:hover {\n",
              "      background-color: #434B5C;\n",
              "      box-shadow: 0px 1px 3px 1px rgba(0, 0, 0, 0.15);\n",
              "      filter: drop-shadow(0px 1px 2px rgba(0, 0, 0, 0.3));\n",
              "      fill: #FFFFFF;\n",
              "    }\n",
              "  </style>\n",
              "\n",
              "    <script>\n",
              "      const buttonEl =\n",
              "        document.querySelector('#df-161fae16-d423-4c3f-b161-f0ef0b1b2f09 button.colab-df-convert');\n",
              "      buttonEl.style.display =\n",
              "        google.colab.kernel.accessAllowed ? 'block' : 'none';\n",
              "\n",
              "      async function convertToInteractive(key) {\n",
              "        const element = document.querySelector('#df-161fae16-d423-4c3f-b161-f0ef0b1b2f09');\n",
              "        const dataTable =\n",
              "          await google.colab.kernel.invokeFunction('convertToInteractive',\n",
              "                                                    [key], {});\n",
              "        if (!dataTable) return;\n",
              "\n",
              "        const docLinkHtml = 'Like what you see? Visit the ' +\n",
              "          '<a target=\"_blank\" href=https://colab.research.google.com/notebooks/data_table.ipynb>data table notebook</a>'\n",
              "          + ' to learn more about interactive tables.';\n",
              "        element.innerHTML = '';\n",
              "        dataTable['output_type'] = 'display_data';\n",
              "        await google.colab.output.renderOutput(dataTable, element);\n",
              "        const docLink = document.createElement('div');\n",
              "        docLink.innerHTML = docLinkHtml;\n",
              "        element.appendChild(docLink);\n",
              "      }\n",
              "    </script>\n",
              "  </div>\n",
              "\n",
              "\n",
              "    <div id=\"df-1ab50e65-9be5-4496-afd7-355856dad98d\">\n",
              "      <button class=\"colab-df-quickchart\" onclick=\"quickchart('df-1ab50e65-9be5-4496-afd7-355856dad98d')\"\n",
              "                title=\"Suggest charts\"\n",
              "                style=\"display:none;\">\n",
              "\n",
              "<svg xmlns=\"http://www.w3.org/2000/svg\" height=\"24px\"viewBox=\"0 0 24 24\"\n",
              "     width=\"24px\">\n",
              "    <g>\n",
              "        <path d=\"M19 3H5c-1.1 0-2 .9-2 2v14c0 1.1.9 2 2 2h14c1.1 0 2-.9 2-2V5c0-1.1-.9-2-2-2zM9 17H7v-7h2v7zm4 0h-2V7h2v10zm4 0h-2v-4h2v4z\"/>\n",
              "    </g>\n",
              "</svg>\n",
              "      </button>\n",
              "\n",
              "<style>\n",
              "  .colab-df-quickchart {\n",
              "      --bg-color: #E8F0FE;\n",
              "      --fill-color: #1967D2;\n",
              "      --hover-bg-color: #E2EBFA;\n",
              "      --hover-fill-color: #174EA6;\n",
              "      --disabled-fill-color: #AAA;\n",
              "      --disabled-bg-color: #DDD;\n",
              "  }\n",
              "\n",
              "  [theme=dark] .colab-df-quickchart {\n",
              "      --bg-color: #3B4455;\n",
              "      --fill-color: #D2E3FC;\n",
              "      --hover-bg-color: #434B5C;\n",
              "      --hover-fill-color: #FFFFFF;\n",
              "      --disabled-bg-color: #3B4455;\n",
              "      --disabled-fill-color: #666;\n",
              "  }\n",
              "\n",
              "  .colab-df-quickchart {\n",
              "    background-color: var(--bg-color);\n",
              "    border: none;\n",
              "    border-radius: 50%;\n",
              "    cursor: pointer;\n",
              "    display: none;\n",
              "    fill: var(--fill-color);\n",
              "    height: 32px;\n",
              "    padding: 0;\n",
              "    width: 32px;\n",
              "  }\n",
              "\n",
              "  .colab-df-quickchart:hover {\n",
              "    background-color: var(--hover-bg-color);\n",
              "    box-shadow: 0 1px 2px rgba(60, 64, 67, 0.3), 0 1px 3px 1px rgba(60, 64, 67, 0.15);\n",
              "    fill: var(--button-hover-fill-color);\n",
              "  }\n",
              "\n",
              "  .colab-df-quickchart-complete:disabled,\n",
              "  .colab-df-quickchart-complete:disabled:hover {\n",
              "    background-color: var(--disabled-bg-color);\n",
              "    fill: var(--disabled-fill-color);\n",
              "    box-shadow: none;\n",
              "  }\n",
              "\n",
              "  .colab-df-spinner {\n",
              "    border: 2px solid var(--fill-color);\n",
              "    border-color: transparent;\n",
              "    border-bottom-color: var(--fill-color);\n",
              "    animation:\n",
              "      spin 1s steps(1) infinite;\n",
              "  }\n",
              "\n",
              "  @keyframes spin {\n",
              "    0% {\n",
              "      border-color: transparent;\n",
              "      border-bottom-color: var(--fill-color);\n",
              "      border-left-color: var(--fill-color);\n",
              "    }\n",
              "    20% {\n",
              "      border-color: transparent;\n",
              "      border-left-color: var(--fill-color);\n",
              "      border-top-color: var(--fill-color);\n",
              "    }\n",
              "    30% {\n",
              "      border-color: transparent;\n",
              "      border-left-color: var(--fill-color);\n",
              "      border-top-color: var(--fill-color);\n",
              "      border-right-color: var(--fill-color);\n",
              "    }\n",
              "    40% {\n",
              "      border-color: transparent;\n",
              "      border-right-color: var(--fill-color);\n",
              "      border-top-color: var(--fill-color);\n",
              "    }\n",
              "    60% {\n",
              "      border-color: transparent;\n",
              "      border-right-color: var(--fill-color);\n",
              "    }\n",
              "    80% {\n",
              "      border-color: transparent;\n",
              "      border-right-color: var(--fill-color);\n",
              "      border-bottom-color: var(--fill-color);\n",
              "    }\n",
              "    90% {\n",
              "      border-color: transparent;\n",
              "      border-bottom-color: var(--fill-color);\n",
              "    }\n",
              "  }\n",
              "</style>\n",
              "\n",
              "      <script>\n",
              "        async function quickchart(key) {\n",
              "          const quickchartButtonEl =\n",
              "            document.querySelector('#' + key + ' button');\n",
              "          quickchartButtonEl.disabled = true;  // To prevent multiple clicks.\n",
              "          quickchartButtonEl.classList.add('colab-df-spinner');\n",
              "          try {\n",
              "            const charts = await google.colab.kernel.invokeFunction(\n",
              "                'suggestCharts', [key], {});\n",
              "          } catch (error) {\n",
              "            console.error('Error during call to suggestCharts:', error);\n",
              "          }\n",
              "          quickchartButtonEl.classList.remove('colab-df-spinner');\n",
              "          quickchartButtonEl.classList.add('colab-df-quickchart-complete');\n",
              "        }\n",
              "        (() => {\n",
              "          let quickchartButtonEl =\n",
              "            document.querySelector('#df-1ab50e65-9be5-4496-afd7-355856dad98d button');\n",
              "          quickchartButtonEl.style.display =\n",
              "            google.colab.kernel.accessAllowed ? 'block' : 'none';\n",
              "        })();\n",
              "      </script>\n",
              "    </div>\n",
              "\n",
              "    </div>\n",
              "  </div>\n"
            ],
            "application/vnd.google.colaboratory.intrinsic+json": {
              "type": "dataframe",
              "variable_name": "df"
            }
          },
          "metadata": {},
          "execution_count": 13
        }
      ]
    },
    {
      "cell_type": "markdown",
      "source": [
        "### Initial Questions / Areas of Interest\n",
        "\n",
        "1. **How have average property sale prices evolved over the years (2001-2022)?**  \n",
        "   We want to explore trends in property values and identify any significant market shifts.\n",
        "\n",
        "2. **Is there a significant discrepancy between assessed value and sale price (Sales Ratio) by town or property type?**  \n",
        "   This will help evaluate the fairness or accuracy of property tax assessments.\n",
        "\n",
        "3. **Which towns have the highest volume of property transactions, and do they follow similar pricing trends?**  \n",
        "   Understanding geographic patterns in sales could reveal urban growth or demand hotspots.\n"
      ],
      "metadata": {
        "id": "pw-RwaQfyU8E"
      }
    },
    {
      "cell_type": "markdown",
      "source": [
        "# 3. Data Import and Cleaning\n",
        "\n",
        "In this section, We examine the dataset for missing values, inconsistent data, and incorrect data types. We also perform appropriate cleaning steps to ensure the dataset is ready for analysis.\n"
      ],
      "metadata": {
        "id": "-vm6MsD93x9T"
      }
    },
    {
      "cell_type": "markdown",
      "source": [
        "## 3.1 Using .info()\n",
        "\n",
        "We use the `.info()` method to get a concise summary of the dataset, which includes:\n",
        "\n",
        "* The number of non-null values in each column,\n",
        "\n",
        "* The data types of each column,\n",
        "\n",
        "* The overall structure of the DataFrame.\n",
        "\n",
        "This helps us quickly identify which columns have missing values and whether any columns need type conversion before further analysis."
      ],
      "metadata": {
        "id": "kiB4avTK2onX"
      }
    },
    {
      "cell_type": "code",
      "source": [
        "df.info()"
      ],
      "metadata": {
        "id": "rfplXWLlsMWN",
        "colab": {
          "base_uri": "https://localhost:8080/"
        },
        "outputId": "9b3d5387-29c6-408b-d405-5e9d4f795d3a"
      },
      "execution_count": 14,
      "outputs": [
        {
          "output_type": "stream",
          "name": "stdout",
          "text": [
            "<class 'pandas.core.frame.DataFrame'>\n",
            "RangeIndex: 1097629 entries, 0 to 1097628\n",
            "Data columns (total 14 columns):\n",
            " #   Column            Non-Null Count    Dtype  \n",
            "---  ------            --------------    -----  \n",
            " 0   Serial Number     1097629 non-null  int64  \n",
            " 1   List Year         1097629 non-null  int64  \n",
            " 2   Date Recorded     1097627 non-null  object \n",
            " 3   Town              1097629 non-null  object \n",
            " 4   Address           1097578 non-null  object \n",
            " 5   Assessed Value    1097629 non-null  float64\n",
            " 6   Sale Amount       1097629 non-null  float64\n",
            " 7   Sales Ratio       1097629 non-null  float64\n",
            " 8   Property Type     715183 non-null   object \n",
            " 9   Residential Type  699240 non-null   object \n",
            " 10  Non Use Code      313451 non-null   object \n",
            " 11  Assessor Remarks  171228 non-null   object \n",
            " 12  OPM remarks       13031 non-null    object \n",
            " 13  Location          298111 non-null   object \n",
            "dtypes: float64(3), int64(2), object(9)\n",
            "memory usage: 117.2+ MB\n"
          ]
        }
      ]
    },
    {
      "cell_type": "markdown",
      "source": [
        "## 3.2 Using .describe()\n",
        "\n",
        "We use the `.describe()` method to generate summary statistics for all numeric columns in the dataset. This includes:\n",
        "\n",
        "* Count of non-null entries\n",
        "\n",
        "* Mean,standard deviation, minimum,maximum\n",
        "\n",
        "* 25th ,50th (median),75th values\n",
        "\n",
        "These statistics help us understand the distribution,spread, and potential outliersin the numbersSale Amount, Assessed Value, and Sales Ratio\n",
        "\n"
      ],
      "metadata": {
        "id": "CdH4uw6MzucM"
      }
    },
    {
      "cell_type": "code",
      "source": [
        "df.describe()"
      ],
      "metadata": {
        "colab": {
          "base_uri": "https://localhost:8080/",
          "height": 300
        },
        "id": "BSCO59ytuScx",
        "outputId": "286c351b-4a0a-4508-a1e4-2b3d15eb0c00"
      },
      "execution_count": 15,
      "outputs": [
        {
          "output_type": "execute_result",
          "data": {
            "text/plain": [
              "       Serial Number     List Year  Assessed Value   Sale Amount   Sales Ratio\n",
              "count   1.097629e+06  1.097629e+06    1.097629e+06  1.097629e+06  1.097629e+06\n",
              "mean    5.370357e+05  2.011218e+03    2.818016e+05  4.053146e+05  9.603926e+00\n",
              "std     7.526074e+06  6.773485e+00    1.657890e+06  5.143492e+06  1.801664e+03\n",
              "min     0.000000e+00  2.001000e+03    0.000000e+00  0.000000e+00  0.000000e+00\n",
              "25%     3.071300e+04  2.005000e+03    8.909000e+04  1.450000e+05  4.778667e-01\n",
              "50%     8.070600e+04  2.011000e+03    1.405800e+05  2.330000e+05  6.105663e-01\n",
              "75%     1.703410e+05  2.018000e+03    2.282700e+05  3.750000e+05  7.707200e-01\n",
              "max     2.000500e+09  2.022000e+03    8.815100e+08  5.000000e+09  1.226420e+06"
            ],
            "text/html": [
              "\n",
              "  <div id=\"df-77b6404e-918f-4486-a9d2-b4496e7009fb\" class=\"colab-df-container\">\n",
              "    <div>\n",
              "<style scoped>\n",
              "    .dataframe tbody tr th:only-of-type {\n",
              "        vertical-align: middle;\n",
              "    }\n",
              "\n",
              "    .dataframe tbody tr th {\n",
              "        vertical-align: top;\n",
              "    }\n",
              "\n",
              "    .dataframe thead th {\n",
              "        text-align: right;\n",
              "    }\n",
              "</style>\n",
              "<table border=\"1\" class=\"dataframe\">\n",
              "  <thead>\n",
              "    <tr style=\"text-align: right;\">\n",
              "      <th></th>\n",
              "      <th>Serial Number</th>\n",
              "      <th>List Year</th>\n",
              "      <th>Assessed Value</th>\n",
              "      <th>Sale Amount</th>\n",
              "      <th>Sales Ratio</th>\n",
              "    </tr>\n",
              "  </thead>\n",
              "  <tbody>\n",
              "    <tr>\n",
              "      <th>count</th>\n",
              "      <td>1.097629e+06</td>\n",
              "      <td>1.097629e+06</td>\n",
              "      <td>1.097629e+06</td>\n",
              "      <td>1.097629e+06</td>\n",
              "      <td>1.097629e+06</td>\n",
              "    </tr>\n",
              "    <tr>\n",
              "      <th>mean</th>\n",
              "      <td>5.370357e+05</td>\n",
              "      <td>2.011218e+03</td>\n",
              "      <td>2.818016e+05</td>\n",
              "      <td>4.053146e+05</td>\n",
              "      <td>9.603926e+00</td>\n",
              "    </tr>\n",
              "    <tr>\n",
              "      <th>std</th>\n",
              "      <td>7.526074e+06</td>\n",
              "      <td>6.773485e+00</td>\n",
              "      <td>1.657890e+06</td>\n",
              "      <td>5.143492e+06</td>\n",
              "      <td>1.801664e+03</td>\n",
              "    </tr>\n",
              "    <tr>\n",
              "      <th>min</th>\n",
              "      <td>0.000000e+00</td>\n",
              "      <td>2.001000e+03</td>\n",
              "      <td>0.000000e+00</td>\n",
              "      <td>0.000000e+00</td>\n",
              "      <td>0.000000e+00</td>\n",
              "    </tr>\n",
              "    <tr>\n",
              "      <th>25%</th>\n",
              "      <td>3.071300e+04</td>\n",
              "      <td>2.005000e+03</td>\n",
              "      <td>8.909000e+04</td>\n",
              "      <td>1.450000e+05</td>\n",
              "      <td>4.778667e-01</td>\n",
              "    </tr>\n",
              "    <tr>\n",
              "      <th>50%</th>\n",
              "      <td>8.070600e+04</td>\n",
              "      <td>2.011000e+03</td>\n",
              "      <td>1.405800e+05</td>\n",
              "      <td>2.330000e+05</td>\n",
              "      <td>6.105663e-01</td>\n",
              "    </tr>\n",
              "    <tr>\n",
              "      <th>75%</th>\n",
              "      <td>1.703410e+05</td>\n",
              "      <td>2.018000e+03</td>\n",
              "      <td>2.282700e+05</td>\n",
              "      <td>3.750000e+05</td>\n",
              "      <td>7.707200e-01</td>\n",
              "    </tr>\n",
              "    <tr>\n",
              "      <th>max</th>\n",
              "      <td>2.000500e+09</td>\n",
              "      <td>2.022000e+03</td>\n",
              "      <td>8.815100e+08</td>\n",
              "      <td>5.000000e+09</td>\n",
              "      <td>1.226420e+06</td>\n",
              "    </tr>\n",
              "  </tbody>\n",
              "</table>\n",
              "</div>\n",
              "    <div class=\"colab-df-buttons\">\n",
              "\n",
              "  <div class=\"colab-df-container\">\n",
              "    <button class=\"colab-df-convert\" onclick=\"convertToInteractive('df-77b6404e-918f-4486-a9d2-b4496e7009fb')\"\n",
              "            title=\"Convert this dataframe to an interactive table.\"\n",
              "            style=\"display:none;\">\n",
              "\n",
              "  <svg xmlns=\"http://www.w3.org/2000/svg\" height=\"24px\" viewBox=\"0 -960 960 960\">\n",
              "    <path d=\"M120-120v-720h720v720H120Zm60-500h600v-160H180v160Zm220 220h160v-160H400v160Zm0 220h160v-160H400v160ZM180-400h160v-160H180v160Zm440 0h160v-160H620v160ZM180-180h160v-160H180v160Zm440 0h160v-160H620v160Z\"/>\n",
              "  </svg>\n",
              "    </button>\n",
              "\n",
              "  <style>\n",
              "    .colab-df-container {\n",
              "      display:flex;\n",
              "      gap: 12px;\n",
              "    }\n",
              "\n",
              "    .colab-df-convert {\n",
              "      background-color: #E8F0FE;\n",
              "      border: none;\n",
              "      border-radius: 50%;\n",
              "      cursor: pointer;\n",
              "      display: none;\n",
              "      fill: #1967D2;\n",
              "      height: 32px;\n",
              "      padding: 0 0 0 0;\n",
              "      width: 32px;\n",
              "    }\n",
              "\n",
              "    .colab-df-convert:hover {\n",
              "      background-color: #E2EBFA;\n",
              "      box-shadow: 0px 1px 2px rgba(60, 64, 67, 0.3), 0px 1px 3px 1px rgba(60, 64, 67, 0.15);\n",
              "      fill: #174EA6;\n",
              "    }\n",
              "\n",
              "    .colab-df-buttons div {\n",
              "      margin-bottom: 4px;\n",
              "    }\n",
              "\n",
              "    [theme=dark] .colab-df-convert {\n",
              "      background-color: #3B4455;\n",
              "      fill: #D2E3FC;\n",
              "    }\n",
              "\n",
              "    [theme=dark] .colab-df-convert:hover {\n",
              "      background-color: #434B5C;\n",
              "      box-shadow: 0px 1px 3px 1px rgba(0, 0, 0, 0.15);\n",
              "      filter: drop-shadow(0px 1px 2px rgba(0, 0, 0, 0.3));\n",
              "      fill: #FFFFFF;\n",
              "    }\n",
              "  </style>\n",
              "\n",
              "    <script>\n",
              "      const buttonEl =\n",
              "        document.querySelector('#df-77b6404e-918f-4486-a9d2-b4496e7009fb button.colab-df-convert');\n",
              "      buttonEl.style.display =\n",
              "        google.colab.kernel.accessAllowed ? 'block' : 'none';\n",
              "\n",
              "      async function convertToInteractive(key) {\n",
              "        const element = document.querySelector('#df-77b6404e-918f-4486-a9d2-b4496e7009fb');\n",
              "        const dataTable =\n",
              "          await google.colab.kernel.invokeFunction('convertToInteractive',\n",
              "                                                    [key], {});\n",
              "        if (!dataTable) return;\n",
              "\n",
              "        const docLinkHtml = 'Like what you see? Visit the ' +\n",
              "          '<a target=\"_blank\" href=https://colab.research.google.com/notebooks/data_table.ipynb>data table notebook</a>'\n",
              "          + ' to learn more about interactive tables.';\n",
              "        element.innerHTML = '';\n",
              "        dataTable['output_type'] = 'display_data';\n",
              "        await google.colab.output.renderOutput(dataTable, element);\n",
              "        const docLink = document.createElement('div');\n",
              "        docLink.innerHTML = docLinkHtml;\n",
              "        element.appendChild(docLink);\n",
              "      }\n",
              "    </script>\n",
              "  </div>\n",
              "\n",
              "\n",
              "    <div id=\"df-235bc5a7-3883-4011-a075-115818b20109\">\n",
              "      <button class=\"colab-df-quickchart\" onclick=\"quickchart('df-235bc5a7-3883-4011-a075-115818b20109')\"\n",
              "                title=\"Suggest charts\"\n",
              "                style=\"display:none;\">\n",
              "\n",
              "<svg xmlns=\"http://www.w3.org/2000/svg\" height=\"24px\"viewBox=\"0 0 24 24\"\n",
              "     width=\"24px\">\n",
              "    <g>\n",
              "        <path d=\"M19 3H5c-1.1 0-2 .9-2 2v14c0 1.1.9 2 2 2h14c1.1 0 2-.9 2-2V5c0-1.1-.9-2-2-2zM9 17H7v-7h2v7zm4 0h-2V7h2v10zm4 0h-2v-4h2v4z\"/>\n",
              "    </g>\n",
              "</svg>\n",
              "      </button>\n",
              "\n",
              "<style>\n",
              "  .colab-df-quickchart {\n",
              "      --bg-color: #E8F0FE;\n",
              "      --fill-color: #1967D2;\n",
              "      --hover-bg-color: #E2EBFA;\n",
              "      --hover-fill-color: #174EA6;\n",
              "      --disabled-fill-color: #AAA;\n",
              "      --disabled-bg-color: #DDD;\n",
              "  }\n",
              "\n",
              "  [theme=dark] .colab-df-quickchart {\n",
              "      --bg-color: #3B4455;\n",
              "      --fill-color: #D2E3FC;\n",
              "      --hover-bg-color: #434B5C;\n",
              "      --hover-fill-color: #FFFFFF;\n",
              "      --disabled-bg-color: #3B4455;\n",
              "      --disabled-fill-color: #666;\n",
              "  }\n",
              "\n",
              "  .colab-df-quickchart {\n",
              "    background-color: var(--bg-color);\n",
              "    border: none;\n",
              "    border-radius: 50%;\n",
              "    cursor: pointer;\n",
              "    display: none;\n",
              "    fill: var(--fill-color);\n",
              "    height: 32px;\n",
              "    padding: 0;\n",
              "    width: 32px;\n",
              "  }\n",
              "\n",
              "  .colab-df-quickchart:hover {\n",
              "    background-color: var(--hover-bg-color);\n",
              "    box-shadow: 0 1px 2px rgba(60, 64, 67, 0.3), 0 1px 3px 1px rgba(60, 64, 67, 0.15);\n",
              "    fill: var(--button-hover-fill-color);\n",
              "  }\n",
              "\n",
              "  .colab-df-quickchart-complete:disabled,\n",
              "  .colab-df-quickchart-complete:disabled:hover {\n",
              "    background-color: var(--disabled-bg-color);\n",
              "    fill: var(--disabled-fill-color);\n",
              "    box-shadow: none;\n",
              "  }\n",
              "\n",
              "  .colab-df-spinner {\n",
              "    border: 2px solid var(--fill-color);\n",
              "    border-color: transparent;\n",
              "    border-bottom-color: var(--fill-color);\n",
              "    animation:\n",
              "      spin 1s steps(1) infinite;\n",
              "  }\n",
              "\n",
              "  @keyframes spin {\n",
              "    0% {\n",
              "      border-color: transparent;\n",
              "      border-bottom-color: var(--fill-color);\n",
              "      border-left-color: var(--fill-color);\n",
              "    }\n",
              "    20% {\n",
              "      border-color: transparent;\n",
              "      border-left-color: var(--fill-color);\n",
              "      border-top-color: var(--fill-color);\n",
              "    }\n",
              "    30% {\n",
              "      border-color: transparent;\n",
              "      border-left-color: var(--fill-color);\n",
              "      border-top-color: var(--fill-color);\n",
              "      border-right-color: var(--fill-color);\n",
              "    }\n",
              "    40% {\n",
              "      border-color: transparent;\n",
              "      border-right-color: var(--fill-color);\n",
              "      border-top-color: var(--fill-color);\n",
              "    }\n",
              "    60% {\n",
              "      border-color: transparent;\n",
              "      border-right-color: var(--fill-color);\n",
              "    }\n",
              "    80% {\n",
              "      border-color: transparent;\n",
              "      border-right-color: var(--fill-color);\n",
              "      border-bottom-color: var(--fill-color);\n",
              "    }\n",
              "    90% {\n",
              "      border-color: transparent;\n",
              "      border-bottom-color: var(--fill-color);\n",
              "    }\n",
              "  }\n",
              "</style>\n",
              "\n",
              "      <script>\n",
              "        async function quickchart(key) {\n",
              "          const quickchartButtonEl =\n",
              "            document.querySelector('#' + key + ' button');\n",
              "          quickchartButtonEl.disabled = true;  // To prevent multiple clicks.\n",
              "          quickchartButtonEl.classList.add('colab-df-spinner');\n",
              "          try {\n",
              "            const charts = await google.colab.kernel.invokeFunction(\n",
              "                'suggestCharts', [key], {});\n",
              "          } catch (error) {\n",
              "            console.error('Error during call to suggestCharts:', error);\n",
              "          }\n",
              "          quickchartButtonEl.classList.remove('colab-df-spinner');\n",
              "          quickchartButtonEl.classList.add('colab-df-quickchart-complete');\n",
              "        }\n",
              "        (() => {\n",
              "          let quickchartButtonEl =\n",
              "            document.querySelector('#df-235bc5a7-3883-4011-a075-115818b20109 button');\n",
              "          quickchartButtonEl.style.display =\n",
              "            google.colab.kernel.accessAllowed ? 'block' : 'none';\n",
              "        })();\n",
              "      </script>\n",
              "    </div>\n",
              "\n",
              "    </div>\n",
              "  </div>\n"
            ],
            "application/vnd.google.colaboratory.intrinsic+json": {
              "type": "dataframe",
              "summary": "{\n  \"name\": \"df\",\n  \"rows\": 8,\n  \"fields\": [\n    {\n      \"column\": \"Serial Number\",\n      \"properties\": {\n        \"dtype\": \"number\",\n        \"std\": 706811239.3145308,\n        \"min\": 0.0,\n        \"max\": 2000500023.0,\n        \"num_unique_values\": 8,\n        \"samples\": [\n          537035.6931677279,\n          80706.0,\n          1097629.0\n        ],\n        \"semantic_type\": \"\",\n        \"description\": \"\"\n      }\n    },\n    {\n      \"column\": \"List Year\",\n      \"properties\": {\n        \"dtype\": \"number\",\n        \"std\": 387461.2103980558,\n        \"min\": 6.773485173645193,\n        \"max\": 1097629.0,\n        \"num_unique_values\": 8,\n        \"samples\": [\n          2011.2183952865678,\n          2011.0,\n          1097629.0\n        ],\n        \"semantic_type\": \"\",\n        \"description\": \"\"\n      }\n    },\n    {\n      \"column\": \"Assessed Value\",\n      \"properties\": {\n        \"dtype\": \"number\",\n        \"std\": 311484854.8904445,\n        \"min\": 0.0,\n        \"max\": 881510000.0,\n        \"num_unique_values\": 8,\n        \"samples\": [\n          281801.57861719216,\n          140580.0,\n          1097629.0\n        ],\n        \"semantic_type\": \"\",\n        \"description\": \"\"\n      }\n    },\n    {\n      \"column\": \"Sale Amount\",\n      \"properties\": {\n        \"dtype\": \"number\",\n        \"std\": 1767394042.1531403,\n        \"min\": 0.0,\n        \"max\": 5000000000.0,\n        \"num_unique_values\": 8,\n        \"samples\": [\n          405314.559761914,\n          233000.0,\n          1097629.0\n        ],\n        \"semantic_type\": \"\",\n        \"description\": \"\"\n      }\n    },\n    {\n      \"column\": \"Sales Ratio\",\n      \"properties\": {\n        \"dtype\": \"number\",\n        \"std\": 538873.7401725483,\n        \"min\": 0.0,\n        \"max\": 1226420.0,\n        \"num_unique_values\": 8,\n        \"samples\": [\n          9.60392605270478,\n          0.610566298,\n          1097629.0\n        ],\n        \"semantic_type\": \"\",\n        \"description\": \"\"\n      }\n    }\n  ]\n}"
            }
          },
          "metadata": {},
          "execution_count": 15
        }
      ]
    },
    {
      "cell_type": "markdown",
      "source": [
        "\n",
        "## 3.3 Using .isnull().sum()\n",
        "\n",
        "We use the `.isnull().sum()` function to identify the number of missing (null) values in each column of the dataset.\n",
        "\n",
        "This helps us:\n",
        "\n",
        "* Quantify how many values are missing per column\n",
        "\n",
        "* Detect incomplete data that may affect analysis\n",
        "\n",
        "* Make informed decisions about data cleaning strategies (e.g., drop or fill)\n",
        "\n",
        "This is an essential step before handling missing data\n",
        "\n"
      ],
      "metadata": {
        "id": "NaSHadq_0IyR"
      }
    },
    {
      "cell_type": "code",
      "source": [
        "df.isnull().sum()"
      ],
      "metadata": {
        "colab": {
          "base_uri": "https://localhost:8080/",
          "height": 523
        },
        "id": "8dyEeJadudir",
        "outputId": "f25ca5c4-59e6-4859-b226-c5653e74e820"
      },
      "execution_count": 16,
      "outputs": [
        {
          "output_type": "execute_result",
          "data": {
            "text/plain": [
              "Serial Number             0\n",
              "List Year                 0\n",
              "Date Recorded             2\n",
              "Town                      0\n",
              "Address                  51\n",
              "Assessed Value            0\n",
              "Sale Amount               0\n",
              "Sales Ratio               0\n",
              "Property Type        382446\n",
              "Residential Type     398389\n",
              "Non Use Code         784178\n",
              "Assessor Remarks     926401\n",
              "OPM remarks         1084598\n",
              "Location             799518\n",
              "dtype: int64"
            ],
            "text/html": [
              "<div>\n",
              "<style scoped>\n",
              "    .dataframe tbody tr th:only-of-type {\n",
              "        vertical-align: middle;\n",
              "    }\n",
              "\n",
              "    .dataframe tbody tr th {\n",
              "        vertical-align: top;\n",
              "    }\n",
              "\n",
              "    .dataframe thead th {\n",
              "        text-align: right;\n",
              "    }\n",
              "</style>\n",
              "<table border=\"1\" class=\"dataframe\">\n",
              "  <thead>\n",
              "    <tr style=\"text-align: right;\">\n",
              "      <th></th>\n",
              "      <th>0</th>\n",
              "    </tr>\n",
              "  </thead>\n",
              "  <tbody>\n",
              "    <tr>\n",
              "      <th>Serial Number</th>\n",
              "      <td>0</td>\n",
              "    </tr>\n",
              "    <tr>\n",
              "      <th>List Year</th>\n",
              "      <td>0</td>\n",
              "    </tr>\n",
              "    <tr>\n",
              "      <th>Date Recorded</th>\n",
              "      <td>2</td>\n",
              "    </tr>\n",
              "    <tr>\n",
              "      <th>Town</th>\n",
              "      <td>0</td>\n",
              "    </tr>\n",
              "    <tr>\n",
              "      <th>Address</th>\n",
              "      <td>51</td>\n",
              "    </tr>\n",
              "    <tr>\n",
              "      <th>Assessed Value</th>\n",
              "      <td>0</td>\n",
              "    </tr>\n",
              "    <tr>\n",
              "      <th>Sale Amount</th>\n",
              "      <td>0</td>\n",
              "    </tr>\n",
              "    <tr>\n",
              "      <th>Sales Ratio</th>\n",
              "      <td>0</td>\n",
              "    </tr>\n",
              "    <tr>\n",
              "      <th>Property Type</th>\n",
              "      <td>382446</td>\n",
              "    </tr>\n",
              "    <tr>\n",
              "      <th>Residential Type</th>\n",
              "      <td>398389</td>\n",
              "    </tr>\n",
              "    <tr>\n",
              "      <th>Non Use Code</th>\n",
              "      <td>784178</td>\n",
              "    </tr>\n",
              "    <tr>\n",
              "      <th>Assessor Remarks</th>\n",
              "      <td>926401</td>\n",
              "    </tr>\n",
              "    <tr>\n",
              "      <th>OPM remarks</th>\n",
              "      <td>1084598</td>\n",
              "    </tr>\n",
              "    <tr>\n",
              "      <th>Location</th>\n",
              "      <td>799518</td>\n",
              "    </tr>\n",
              "  </tbody>\n",
              "</table>\n",
              "</div><br><label><b>dtype:</b> int64</label>"
            ]
          },
          "metadata": {},
          "execution_count": 16
        }
      ]
    },
    {
      "cell_type": "markdown",
      "source": [
        "## 3.4 Analyse the Missing values\n",
        "\n",
        "*  To understand the extent of missing data in our dataset, we calculate the percentage of missing values for each column. This helps identify which columns require data cleaning actions such as imputation, default value assignment, or removal due to excessive missing data.\n",
        "*   We sort the columns in descending order of missing percentage to prioritize the most problematic fields first\n",
        "\n",
        "\n"
      ],
      "metadata": {
        "id": "liQK04mP0-CS"
      }
    },
    {
      "cell_type": "code",
      "source": [
        "# See % of missing values\n",
        "missing_percent = (df.isnull().sum() / len(df)) * 100\n",
        "missing_percent.sort_values(ascending=False)"
      ],
      "metadata": {
        "colab": {
          "base_uri": "https://localhost:8080/",
          "height": 523
        },
        "id": "pZ_ScKK6Xsmb",
        "outputId": "4e938ce2-4b54-49c1-aa7d-f7f72897b1b5"
      },
      "execution_count": 17,
      "outputs": [
        {
          "output_type": "execute_result",
          "data": {
            "text/plain": [
              "OPM remarks         98.812805\n",
              "Assessor Remarks    84.400194\n",
              "Location            72.840459\n",
              "Non Use Code        71.442901\n",
              "Residential Type    36.295415\n",
              "Property Type       34.842921\n",
              "Address              0.004646\n",
              "Date Recorded        0.000182\n",
              "Serial Number        0.000000\n",
              "List Year            0.000000\n",
              "Assessed Value       0.000000\n",
              "Town                 0.000000\n",
              "Sale Amount          0.000000\n",
              "Sales Ratio          0.000000\n",
              "dtype: float64"
            ],
            "text/html": [
              "<div>\n",
              "<style scoped>\n",
              "    .dataframe tbody tr th:only-of-type {\n",
              "        vertical-align: middle;\n",
              "    }\n",
              "\n",
              "    .dataframe tbody tr th {\n",
              "        vertical-align: top;\n",
              "    }\n",
              "\n",
              "    .dataframe thead th {\n",
              "        text-align: right;\n",
              "    }\n",
              "</style>\n",
              "<table border=\"1\" class=\"dataframe\">\n",
              "  <thead>\n",
              "    <tr style=\"text-align: right;\">\n",
              "      <th></th>\n",
              "      <th>0</th>\n",
              "    </tr>\n",
              "  </thead>\n",
              "  <tbody>\n",
              "    <tr>\n",
              "      <th>OPM remarks</th>\n",
              "      <td>98.812805</td>\n",
              "    </tr>\n",
              "    <tr>\n",
              "      <th>Assessor Remarks</th>\n",
              "      <td>84.400194</td>\n",
              "    </tr>\n",
              "    <tr>\n",
              "      <th>Location</th>\n",
              "      <td>72.840459</td>\n",
              "    </tr>\n",
              "    <tr>\n",
              "      <th>Non Use Code</th>\n",
              "      <td>71.442901</td>\n",
              "    </tr>\n",
              "    <tr>\n",
              "      <th>Residential Type</th>\n",
              "      <td>36.295415</td>\n",
              "    </tr>\n",
              "    <tr>\n",
              "      <th>Property Type</th>\n",
              "      <td>34.842921</td>\n",
              "    </tr>\n",
              "    <tr>\n",
              "      <th>Address</th>\n",
              "      <td>0.004646</td>\n",
              "    </tr>\n",
              "    <tr>\n",
              "      <th>Date Recorded</th>\n",
              "      <td>0.000182</td>\n",
              "    </tr>\n",
              "    <tr>\n",
              "      <th>Serial Number</th>\n",
              "      <td>0.000000</td>\n",
              "    </tr>\n",
              "    <tr>\n",
              "      <th>List Year</th>\n",
              "      <td>0.000000</td>\n",
              "    </tr>\n",
              "    <tr>\n",
              "      <th>Assessed Value</th>\n",
              "      <td>0.000000</td>\n",
              "    </tr>\n",
              "    <tr>\n",
              "      <th>Town</th>\n",
              "      <td>0.000000</td>\n",
              "    </tr>\n",
              "    <tr>\n",
              "      <th>Sale Amount</th>\n",
              "      <td>0.000000</td>\n",
              "    </tr>\n",
              "    <tr>\n",
              "      <th>Sales Ratio</th>\n",
              "      <td>0.000000</td>\n",
              "    </tr>\n",
              "  </tbody>\n",
              "</table>\n",
              "</div><br><label><b>dtype:</b> float64</label>"
            ]
          },
          "metadata": {},
          "execution_count": 17
        }
      ]
    },
    {
      "cell_type": "markdown",
      "source": [
        "## 3.5 Cleaning the dataset\n",
        "\n",
        "### 3.5.1: Removing Columns with Excessive Missing Data\n",
        "\n",
        "To ensure the dataset is reliable and ready for analysis, we take the following cleaning actions:\n",
        "\n",
        "* We created a copy of the original DataFrame called `real_estate_df` to ensure the raw data remains unchanged and accessible for future reference if needed.\n",
        "\n",
        "* As part of our data cleaning process, we first removed columns where the number of missing values exceeded the number of available (non-null) values.\n",
        "\n",
        "* The following columns were dropped:\n",
        "  1. Non Use Code  \n",
        "  2. Assessor Remarks  \n",
        "  3. OPM Remarks\n",
        "\n",
        "These columns contained a significant percentage of null entries, often more than 50%, and did not provide consistently usable information across records.\n",
        "\n",
        "This helps streamline our dataset by retaining only columns with meaningful and usable data."
      ],
      "metadata": {
        "id": "aXVUIl7t23sA"
      }
    },
    {
      "cell_type": "code",
      "source": [
        "# Copy the original DataFrame to preserve raw data\n",
        "real_estate_df = df.copy()\n",
        "print(\" Original DataFrame copied to 'real_estate_df'.\")\n",
        "\n",
        "# Drop columns with too many missing values\n",
        "columns_to_drop = ['Non Use Code', 'Assessor Remarks', 'OPM remarks']\n",
        "real_estate_df.drop(columns=[col for col in columns_to_drop if col in real_estate_df.columns], inplace=True)\n",
        "print(f\"Dropped columns: {columns_to_drop}\")"
      ],
      "metadata": {
        "colab": {
          "base_uri": "https://localhost:8080/"
        },
        "id": "Rmy_WO4bvAIi",
        "outputId": "c14e71b9-594b-43b2-af0e-3a07e716f33c"
      },
      "execution_count": 65,
      "outputs": [
        {
          "output_type": "stream",
          "name": "stdout",
          "text": [
            " Original DataFrame copied to 'real_estate_df'.\n",
            "Dropped columns: ['Non Use Code', 'Assessor Remarks', 'OPM remarks']\n"
          ]
        }
      ]
    },
    {
      "cell_type": "markdown",
      "source": [
        "### 3.5.2 Handling Rows with Missing Critical Fields\n",
        "\n",
        "* We remove rows that are missing values in critical fields required for analysis, as these fields are essential for understanding the property sale context and cannot be imputed accurately.\n",
        "\n",
        "* The fields we consider critical are:\n",
        "\n",
        "  1. Date Recorded – Needed for time based analysis.\n",
        "\n",
        "  2. Address – Required for property identification.\n",
        "\n",
        "  3. Location – Essential for geographic mapping and spatial trends.\n",
        "\n",
        "  4. Residential Type – Important for segmenting residential categories.\n",
        "\n",
        "  5. Property Type – Differentiates between residential, commercial, and other property types.\n",
        "\n",
        "After removing rows with missing values in these columns, we print the number of remaining rows and inspect the structure of the cleaned DataFrame using .info()"
      ],
      "metadata": {
        "id": "Wm3emkNB5CnB"
      }
    },
    {
      "cell_type": "code",
      "source": [
        "# Drop rows with missing values in important columns\n",
        "real_estate_df.dropna(subset=['Date Recorded', 'Address', 'Location', 'Residential Type', 'Property Type'], inplace=True)\n",
        "\n",
        "print(\"Dropped rows with missing values in 'Date Recorded', 'Address', 'Location', 'Residential Type', or 'Property Type'.\")\n",
        "print(f\"Remaining rows after dropping: {len(real_estate_df)}\")\n"
      ],
      "metadata": {
        "colab": {
          "base_uri": "https://localhost:8080/"
        },
        "id": "W0wSKK6y4-SL",
        "outputId": "953d1860-b2bf-4174-cf96-66e2942b8660"
      },
      "execution_count": 66,
      "outputs": [
        {
          "output_type": "stream",
          "name": "stdout",
          "text": [
            "Dropped rows with missing values in 'Date Recorded', 'Address', 'Location', 'Residential Type', or 'Property Type'.\n",
            "Remaining rows after dropping: 214091\n"
          ]
        }
      ]
    },
    {
      "cell_type": "markdown",
      "source": [
        "### 3.5.3 Converting Date format and Extracting Location Coordinates\n",
        "\n",
        "* In this part, we cleaned up the Date Recorded column and worked with the Location column:\n",
        "\n",
        "  1. First, we converted the Date Recorded column into proper datetime format so we can easily filter or sort the data by date. If any date couldn't be converted maybe it was written wrong, we allowed it to turn into a missing value\n",
        "\n",
        "  2. Next, we focused on the Location column, which holds both longitude and latitude together in a format like this: POINT (-72.345 41.678). We separated the longitude and latitude into two new columns using pattern matching.\n",
        "\n",
        "  3. Finally, we made sure both Longitude and Latitude columns are in numeric format so we can use them for location based analysis or plotting maps later.\n",
        "\n",
        "\n"
      ],
      "metadata": {
        "id": "p4lykchj6Yoh"
      }
    },
    {
      "cell_type": "code",
      "source": [
        "# Convert 'Date Recorded' to datetime format\n",
        "real_estate_df['Date Recorded'] = pd.to_datetime(real_estate_df['Date Recorded'], errors='coerce')\n",
        "print(\"Converted 'Date Recorded' to datetime format.\")\n",
        "\n",
        "#  Extract coordinates from 'Location' column\n",
        "real_estate_df['Longitude'] = real_estate_df['Location'].str.extract(r'POINT \\((-?\\d+\\.\\d+)')\n",
        "real_estate_df['Latitude'] = real_estate_df['Location'].str.extract(r'POINT \\(-?\\d+\\.\\d+ (\\d+\\.\\d+)')\n",
        "\n",
        "# Convert extracted coordinates to numeric (float)\n",
        "real_estate_df['Longitude'] = pd.to_numeric(real_estate_df['Longitude'], errors='coerce')\n",
        "real_estate_df['Latitude'] = pd.to_numeric(real_estate_df['Latitude'], errors='coerce')\n",
        "print(\" Extracted and converted 'Longitude' and 'Latitude' from 'Location' column.\")\n"
      ],
      "metadata": {
        "colab": {
          "base_uri": "https://localhost:8080/"
        },
        "id": "ntYlMpCPYAIS",
        "outputId": "f99d0547-fb9f-4a05-a899-a9a77c6d982e"
      },
      "execution_count": 67,
      "outputs": [
        {
          "output_type": "stream",
          "name": "stdout",
          "text": [
            "Converted 'Date Recorded' to datetime format.\n",
            " Extracted and converted 'Longitude' and 'Latitude' from 'Location' column.\n"
          ]
        }
      ]
    },
    {
      "cell_type": "markdown",
      "source": [
        "### 3.5.4 Dropping Rows with Missing Coordinates\n",
        "\n",
        "* After extracting latitude and longitude from the Location column, we found that some rows had missing (null) values in these new columns.\n",
        "\n",
        "* Since accurate location data is important for geographic analysis and visualizations, we decided to drop those rows. Keeping them would limit our ability to map or analyze property sales by location.\n",
        "\n",
        "* This step helps keep the dataset clean and ensures that all remaining records have valid coordinates."
      ],
      "metadata": {
        "id": "jHBtT2bw773z"
      }
    },
    {
      "cell_type": "code",
      "source": [
        "real_estate_df = real_estate_df.dropna(subset=['Longitude', 'Latitude'])\n"
      ],
      "metadata": {
        "id": "e4K-gF15Y10P"
      },
      "execution_count": 68,
      "outputs": []
    },
    {
      "cell_type": "markdown",
      "source": [
        "* We use `.duplicated().sum()` to check how many fully duplicated rows are in the dataset. This helps us identify and remove any exact duplicate records to keep the data clean and accurate."
      ],
      "metadata": {
        "id": "QB74L6NY-Q6E"
      }
    },
    {
      "cell_type": "code",
      "source": [
        "num_full_duplicates = real_estate_df.duplicated().sum()\n",
        "print(f\"Number of fully duplicated rows: {num_full_duplicates}\")\n"
      ],
      "metadata": {
        "colab": {
          "base_uri": "https://localhost:8080/"
        },
        "id": "rcipKNPAZfCL",
        "outputId": "71d453f5-7f8b-4b63-bcce-b54ab0ae09ae"
      },
      "execution_count": 69,
      "outputs": [
        {
          "output_type": "stream",
          "name": "stdout",
          "text": [
            "Number of fully duplicated rows: 0\n"
          ]
        }
      ]
    },
    {
      "cell_type": "markdown",
      "source": [
        "* We are checking how many rows have a sale amount of 0. These rows probably don’t represent actual sales, so we might need to remove them to make sure our analysis is accurate.\n"
      ],
      "metadata": {
        "id": "d6p-HLNF-rxd"
      }
    },
    {
      "cell_type": "code",
      "source": [
        "zero_sales_count = (real_estate_df['Sale Amount'] == 0).sum()\n",
        "print(f\"Rows with Sale Amount = 0: {zero_sales_count}\")"
      ],
      "metadata": {
        "colab": {
          "base_uri": "https://localhost:8080/"
        },
        "id": "nk2avOSbZg2r",
        "outputId": "41df4f40-0ad0-4c43-8105-9bac42427558"
      },
      "execution_count": 70,
      "outputs": [
        {
          "output_type": "stream",
          "name": "stdout",
          "text": [
            "Rows with Sale Amount = 0: 18\n"
          ]
        }
      ]
    },
    {
      "cell_type": "markdown",
      "source": [
        "* We created a new column called Valid Sale to mark whether each sale amount is greater than 0. This helps us easily count how many records are actual sales and how many are not. Then, we used `.value_counts()` to see the total number of valid vs. invalid sales."
      ],
      "metadata": {
        "id": "KoNAbSfU_VFZ"
      }
    },
    {
      "cell_type": "code",
      "source": [
        "real_estate_df['Valid Sale'] = real_estate_df['Sale Amount'] > 0\n",
        "\n",
        "print(\" Count of valid and invalid sales:\")\n",
        "print(real_estate_df['Valid Sale'].value_counts())\n"
      ],
      "metadata": {
        "colab": {
          "base_uri": "https://localhost:8080/"
        },
        "id": "qHqoj_BmZjgn",
        "outputId": "528048bf-e91f-484d-b69b-20769e119c8a"
      },
      "execution_count": 71,
      "outputs": [
        {
          "output_type": "stream",
          "name": "stdout",
          "text": [
            " Count of valid and invalid sales:\n",
            "Valid Sale\n",
            "True     214072\n",
            "False        18\n",
            "Name: count, dtype: int64\n"
          ]
        }
      ]
    },
    {
      "cell_type": "markdown",
      "source": [
        "* We display the first 10 rows of the `Sale Amount` and `Valid Sale` columns to double check that the new `Valid Sale` column is working correctly. It should show `True` where the sale amount is greater than 0, and `False` otherwise."
      ],
      "metadata": {
        "id": "fGYe3w0P_hbj"
      }
    },
    {
      "cell_type": "code",
      "source": [
        "real_estate_df[['Sale Amount', 'Valid Sale']].head(10)\n"
      ],
      "metadata": {
        "colab": {
          "base_uri": "https://localhost:8080/",
          "height": 362
        },
        "id": "PpInDUxwZnN7",
        "outputId": "54be159e-b115-42db-dc17-55a2335097b7"
      },
      "execution_count": 72,
      "outputs": [
        {
          "output_type": "execute_result",
          "data": {
            "text/plain": [
              "    Sale Amount  Valid Sale\n",
              "0      248400.0        True\n",
              "4      362500.0        True\n",
              "6      775000.0        True\n",
              "32     130000.0        True\n",
              "37     540000.0        True\n",
              "40     197000.0        True\n",
              "51      42500.0        True\n",
              "54     325000.0        True\n",
              "65     175000.0        True\n",
              "75     165000.0        True"
            ],
            "text/html": [
              "\n",
              "  <div id=\"df-e0a62ed6-dca0-4104-9586-e7b41fc0535a\" class=\"colab-df-container\">\n",
              "    <div>\n",
              "<style scoped>\n",
              "    .dataframe tbody tr th:only-of-type {\n",
              "        vertical-align: middle;\n",
              "    }\n",
              "\n",
              "    .dataframe tbody tr th {\n",
              "        vertical-align: top;\n",
              "    }\n",
              "\n",
              "    .dataframe thead th {\n",
              "        text-align: right;\n",
              "    }\n",
              "</style>\n",
              "<table border=\"1\" class=\"dataframe\">\n",
              "  <thead>\n",
              "    <tr style=\"text-align: right;\">\n",
              "      <th></th>\n",
              "      <th>Sale Amount</th>\n",
              "      <th>Valid Sale</th>\n",
              "    </tr>\n",
              "  </thead>\n",
              "  <tbody>\n",
              "    <tr>\n",
              "      <th>0</th>\n",
              "      <td>248400.0</td>\n",
              "      <td>True</td>\n",
              "    </tr>\n",
              "    <tr>\n",
              "      <th>4</th>\n",
              "      <td>362500.0</td>\n",
              "      <td>True</td>\n",
              "    </tr>\n",
              "    <tr>\n",
              "      <th>6</th>\n",
              "      <td>775000.0</td>\n",
              "      <td>True</td>\n",
              "    </tr>\n",
              "    <tr>\n",
              "      <th>32</th>\n",
              "      <td>130000.0</td>\n",
              "      <td>True</td>\n",
              "    </tr>\n",
              "    <tr>\n",
              "      <th>37</th>\n",
              "      <td>540000.0</td>\n",
              "      <td>True</td>\n",
              "    </tr>\n",
              "    <tr>\n",
              "      <th>40</th>\n",
              "      <td>197000.0</td>\n",
              "      <td>True</td>\n",
              "    </tr>\n",
              "    <tr>\n",
              "      <th>51</th>\n",
              "      <td>42500.0</td>\n",
              "      <td>True</td>\n",
              "    </tr>\n",
              "    <tr>\n",
              "      <th>54</th>\n",
              "      <td>325000.0</td>\n",
              "      <td>True</td>\n",
              "    </tr>\n",
              "    <tr>\n",
              "      <th>65</th>\n",
              "      <td>175000.0</td>\n",
              "      <td>True</td>\n",
              "    </tr>\n",
              "    <tr>\n",
              "      <th>75</th>\n",
              "      <td>165000.0</td>\n",
              "      <td>True</td>\n",
              "    </tr>\n",
              "  </tbody>\n",
              "</table>\n",
              "</div>\n",
              "    <div class=\"colab-df-buttons\">\n",
              "\n",
              "  <div class=\"colab-df-container\">\n",
              "    <button class=\"colab-df-convert\" onclick=\"convertToInteractive('df-e0a62ed6-dca0-4104-9586-e7b41fc0535a')\"\n",
              "            title=\"Convert this dataframe to an interactive table.\"\n",
              "            style=\"display:none;\">\n",
              "\n",
              "  <svg xmlns=\"http://www.w3.org/2000/svg\" height=\"24px\" viewBox=\"0 -960 960 960\">\n",
              "    <path d=\"M120-120v-720h720v720H120Zm60-500h600v-160H180v160Zm220 220h160v-160H400v160Zm0 220h160v-160H400v160ZM180-400h160v-160H180v160Zm440 0h160v-160H620v160ZM180-180h160v-160H180v160Zm440 0h160v-160H620v160Z\"/>\n",
              "  </svg>\n",
              "    </button>\n",
              "\n",
              "  <style>\n",
              "    .colab-df-container {\n",
              "      display:flex;\n",
              "      gap: 12px;\n",
              "    }\n",
              "\n",
              "    .colab-df-convert {\n",
              "      background-color: #E8F0FE;\n",
              "      border: none;\n",
              "      border-radius: 50%;\n",
              "      cursor: pointer;\n",
              "      display: none;\n",
              "      fill: #1967D2;\n",
              "      height: 32px;\n",
              "      padding: 0 0 0 0;\n",
              "      width: 32px;\n",
              "    }\n",
              "\n",
              "    .colab-df-convert:hover {\n",
              "      background-color: #E2EBFA;\n",
              "      box-shadow: 0px 1px 2px rgba(60, 64, 67, 0.3), 0px 1px 3px 1px rgba(60, 64, 67, 0.15);\n",
              "      fill: #174EA6;\n",
              "    }\n",
              "\n",
              "    .colab-df-buttons div {\n",
              "      margin-bottom: 4px;\n",
              "    }\n",
              "\n",
              "    [theme=dark] .colab-df-convert {\n",
              "      background-color: #3B4455;\n",
              "      fill: #D2E3FC;\n",
              "    }\n",
              "\n",
              "    [theme=dark] .colab-df-convert:hover {\n",
              "      background-color: #434B5C;\n",
              "      box-shadow: 0px 1px 3px 1px rgba(0, 0, 0, 0.15);\n",
              "      filter: drop-shadow(0px 1px 2px rgba(0, 0, 0, 0.3));\n",
              "      fill: #FFFFFF;\n",
              "    }\n",
              "  </style>\n",
              "\n",
              "    <script>\n",
              "      const buttonEl =\n",
              "        document.querySelector('#df-e0a62ed6-dca0-4104-9586-e7b41fc0535a button.colab-df-convert');\n",
              "      buttonEl.style.display =\n",
              "        google.colab.kernel.accessAllowed ? 'block' : 'none';\n",
              "\n",
              "      async function convertToInteractive(key) {\n",
              "        const element = document.querySelector('#df-e0a62ed6-dca0-4104-9586-e7b41fc0535a');\n",
              "        const dataTable =\n",
              "          await google.colab.kernel.invokeFunction('convertToInteractive',\n",
              "                                                    [key], {});\n",
              "        if (!dataTable) return;\n",
              "\n",
              "        const docLinkHtml = 'Like what you see? Visit the ' +\n",
              "          '<a target=\"_blank\" href=https://colab.research.google.com/notebooks/data_table.ipynb>data table notebook</a>'\n",
              "          + ' to learn more about interactive tables.';\n",
              "        element.innerHTML = '';\n",
              "        dataTable['output_type'] = 'display_data';\n",
              "        await google.colab.output.renderOutput(dataTable, element);\n",
              "        const docLink = document.createElement('div');\n",
              "        docLink.innerHTML = docLinkHtml;\n",
              "        element.appendChild(docLink);\n",
              "      }\n",
              "    </script>\n",
              "  </div>\n",
              "\n",
              "\n",
              "    <div id=\"df-84c692ab-26b5-417a-899e-aa4f7a40bf87\">\n",
              "      <button class=\"colab-df-quickchart\" onclick=\"quickchart('df-84c692ab-26b5-417a-899e-aa4f7a40bf87')\"\n",
              "                title=\"Suggest charts\"\n",
              "                style=\"display:none;\">\n",
              "\n",
              "<svg xmlns=\"http://www.w3.org/2000/svg\" height=\"24px\"viewBox=\"0 0 24 24\"\n",
              "     width=\"24px\">\n",
              "    <g>\n",
              "        <path d=\"M19 3H5c-1.1 0-2 .9-2 2v14c0 1.1.9 2 2 2h14c1.1 0 2-.9 2-2V5c0-1.1-.9-2-2-2zM9 17H7v-7h2v7zm4 0h-2V7h2v10zm4 0h-2v-4h2v4z\"/>\n",
              "    </g>\n",
              "</svg>\n",
              "      </button>\n",
              "\n",
              "<style>\n",
              "  .colab-df-quickchart {\n",
              "      --bg-color: #E8F0FE;\n",
              "      --fill-color: #1967D2;\n",
              "      --hover-bg-color: #E2EBFA;\n",
              "      --hover-fill-color: #174EA6;\n",
              "      --disabled-fill-color: #AAA;\n",
              "      --disabled-bg-color: #DDD;\n",
              "  }\n",
              "\n",
              "  [theme=dark] .colab-df-quickchart {\n",
              "      --bg-color: #3B4455;\n",
              "      --fill-color: #D2E3FC;\n",
              "      --hover-bg-color: #434B5C;\n",
              "      --hover-fill-color: #FFFFFF;\n",
              "      --disabled-bg-color: #3B4455;\n",
              "      --disabled-fill-color: #666;\n",
              "  }\n",
              "\n",
              "  .colab-df-quickchart {\n",
              "    background-color: var(--bg-color);\n",
              "    border: none;\n",
              "    border-radius: 50%;\n",
              "    cursor: pointer;\n",
              "    display: none;\n",
              "    fill: var(--fill-color);\n",
              "    height: 32px;\n",
              "    padding: 0;\n",
              "    width: 32px;\n",
              "  }\n",
              "\n",
              "  .colab-df-quickchart:hover {\n",
              "    background-color: var(--hover-bg-color);\n",
              "    box-shadow: 0 1px 2px rgba(60, 64, 67, 0.3), 0 1px 3px 1px rgba(60, 64, 67, 0.15);\n",
              "    fill: var(--button-hover-fill-color);\n",
              "  }\n",
              "\n",
              "  .colab-df-quickchart-complete:disabled,\n",
              "  .colab-df-quickchart-complete:disabled:hover {\n",
              "    background-color: var(--disabled-bg-color);\n",
              "    fill: var(--disabled-fill-color);\n",
              "    box-shadow: none;\n",
              "  }\n",
              "\n",
              "  .colab-df-spinner {\n",
              "    border: 2px solid var(--fill-color);\n",
              "    border-color: transparent;\n",
              "    border-bottom-color: var(--fill-color);\n",
              "    animation:\n",
              "      spin 1s steps(1) infinite;\n",
              "  }\n",
              "\n",
              "  @keyframes spin {\n",
              "    0% {\n",
              "      border-color: transparent;\n",
              "      border-bottom-color: var(--fill-color);\n",
              "      border-left-color: var(--fill-color);\n",
              "    }\n",
              "    20% {\n",
              "      border-color: transparent;\n",
              "      border-left-color: var(--fill-color);\n",
              "      border-top-color: var(--fill-color);\n",
              "    }\n",
              "    30% {\n",
              "      border-color: transparent;\n",
              "      border-left-color: var(--fill-color);\n",
              "      border-top-color: var(--fill-color);\n",
              "      border-right-color: var(--fill-color);\n",
              "    }\n",
              "    40% {\n",
              "      border-color: transparent;\n",
              "      border-right-color: var(--fill-color);\n",
              "      border-top-color: var(--fill-color);\n",
              "    }\n",
              "    60% {\n",
              "      border-color: transparent;\n",
              "      border-right-color: var(--fill-color);\n",
              "    }\n",
              "    80% {\n",
              "      border-color: transparent;\n",
              "      border-right-color: var(--fill-color);\n",
              "      border-bottom-color: var(--fill-color);\n",
              "    }\n",
              "    90% {\n",
              "      border-color: transparent;\n",
              "      border-bottom-color: var(--fill-color);\n",
              "    }\n",
              "  }\n",
              "</style>\n",
              "\n",
              "      <script>\n",
              "        async function quickchart(key) {\n",
              "          const quickchartButtonEl =\n",
              "            document.querySelector('#' + key + ' button');\n",
              "          quickchartButtonEl.disabled = true;  // To prevent multiple clicks.\n",
              "          quickchartButtonEl.classList.add('colab-df-spinner');\n",
              "          try {\n",
              "            const charts = await google.colab.kernel.invokeFunction(\n",
              "                'suggestCharts', [key], {});\n",
              "          } catch (error) {\n",
              "            console.error('Error during call to suggestCharts:', error);\n",
              "          }\n",
              "          quickchartButtonEl.classList.remove('colab-df-spinner');\n",
              "          quickchartButtonEl.classList.add('colab-df-quickchart-complete');\n",
              "        }\n",
              "        (() => {\n",
              "          let quickchartButtonEl =\n",
              "            document.querySelector('#df-84c692ab-26b5-417a-899e-aa4f7a40bf87 button');\n",
              "          quickchartButtonEl.style.display =\n",
              "            google.colab.kernel.accessAllowed ? 'block' : 'none';\n",
              "        })();\n",
              "      </script>\n",
              "    </div>\n",
              "\n",
              "    </div>\n",
              "  </div>\n"
            ],
            "application/vnd.google.colaboratory.intrinsic+json": {
              "type": "dataframe",
              "summary": "{\n  \"name\": \"real_estate_df[['Sale Amount', 'Valid Sale']]\",\n  \"rows\": 10,\n  \"fields\": [\n    {\n      \"column\": \"Sale Amount\",\n      \"properties\": {\n        \"dtype\": \"number\",\n        \"std\": 218562.7913844847,\n        \"min\": 42500.0,\n        \"max\": 775000.0,\n        \"num_unique_values\": 10,\n        \"samples\": [\n          175000.0,\n          362500.0,\n          197000.0\n        ],\n        \"semantic_type\": \"\",\n        \"description\": \"\"\n      }\n    },\n    {\n      \"column\": \"Valid Sale\",\n      \"properties\": {\n        \"dtype\": \"boolean\",\n        \"num_unique_values\": 1,\n        \"samples\": [\n          true\n        ],\n        \"semantic_type\": \"\",\n        \"description\": \"\"\n      }\n    }\n  ]\n}"
            }
          },
          "metadata": {},
          "execution_count": 72
        }
      ]
    },
    {
      "cell_type": "markdown",
      "source": [
        "* We created a new column called `Valid Assessed` to check whether each property's `Assessed Value` is greater than 0. This helps us identify and count how many records have valid assessed values. Then we use `.value_counts()` to see how many are valid `True` and how many are not `False`."
      ],
      "metadata": {
        "id": "T7al0thEAVsW"
      }
    },
    {
      "cell_type": "code",
      "source": [
        "real_estate_df['Valid Assessed'] = real_estate_df['Assessed Value'] > 0\n",
        "print(\"\\nThe valid assessed value counts:\")\n",
        "print(real_estate_df['Valid Assessed'].value_counts())\n"
      ],
      "metadata": {
        "colab": {
          "base_uri": "https://localhost:8080/"
        },
        "id": "6S5T_IPCZrfU",
        "outputId": "d539ded8-b4e7-4c1b-84a6-ff07fe3c7658"
      },
      "execution_count": 73,
      "outputs": [
        {
          "output_type": "stream",
          "name": "stdout",
          "text": [
            "\n",
            "The valid assessed value counts:\n",
            "Valid Assessed\n",
            "True     213541\n",
            "False       549\n",
            "Name: count, dtype: int64\n"
          ]
        }
      ]
    },
    {
      "cell_type": "markdown",
      "source": [
        "* We cleaned up the text data in the `Town`, `Property Type`, and `Residential Type` columns by removing any extra spaces using `.str.strip()` and converting the text to title case using `.str.title()`."
      ],
      "metadata": {
        "id": "pQoqaM4yBB8R"
      }
    },
    {
      "cell_type": "code",
      "source": [
        "for col in ['Town', 'Property Type', 'Residential Type']:\n",
        "   real_estate_df[col] = real_estate_df[col].str.strip().str.title()\n",
        "\n",
        "print(\"Text data in 'Town', 'Property Type', and 'Residential Type' columns has been cleaned: extra spaces removed and text converted to title case.\")\n",
        "\n"
      ],
      "metadata": {
        "id": "vLmCo-oPZtDC",
        "colab": {
          "base_uri": "https://localhost:8080/"
        },
        "outputId": "0d198d22-bb07-4ee4-b891-3ea9cf9108e2"
      },
      "execution_count": 74,
      "outputs": [
        {
          "output_type": "stream",
          "name": "stdout",
          "text": [
            "Text data in 'Town', 'Property Type', and 'Residential Type' columns has been cleaned: extra spaces removed and text converted to title case.\n"
          ]
        }
      ]
    },
    {
      "cell_type": "markdown",
      "source": [
        "### 3.5.5 Cleaned Data Overview\n",
        "After all the cleaning steps like dropping missing values, fixing data types, and splitting coordinates, we now check the structure of our cleaned dataset using `.info()`.\n",
        "\n",
        "* All the important columns are present.\n",
        "* There are no obvious data type issues.\n",
        "* We have handled missing values properly."
      ],
      "metadata": {
        "id": "PceicFS1Bfrz"
      }
    },
    {
      "cell_type": "code",
      "source": [
        "\n",
        "# Showing the result of cleaning\n",
        "print(\"\\n Cleaned DataFrame Overview:\")\n",
        "print(real_estate_df.info())\n"
      ],
      "metadata": {
        "colab": {
          "base_uri": "https://localhost:8080/"
        },
        "id": "p-VcdgXZBfWx",
        "outputId": "efe5e6a6-9601-4db5-e10a-255529b450d1"
      },
      "execution_count": 75,
      "outputs": [
        {
          "output_type": "stream",
          "name": "stdout",
          "text": [
            "\n",
            " Cleaned DataFrame Overview:\n",
            "<class 'pandas.core.frame.DataFrame'>\n",
            "Index: 214090 entries, 0 to 1097628\n",
            "Data columns (total 15 columns):\n",
            " #   Column            Non-Null Count   Dtype         \n",
            "---  ------            --------------   -----         \n",
            " 0   Serial Number     214090 non-null  int64         \n",
            " 1   List Year         214090 non-null  int64         \n",
            " 2   Date Recorded     214090 non-null  datetime64[ns]\n",
            " 3   Town              214090 non-null  object        \n",
            " 4   Address           214090 non-null  object        \n",
            " 5   Assessed Value    214090 non-null  float64       \n",
            " 6   Sale Amount       214090 non-null  float64       \n",
            " 7   Sales Ratio       214090 non-null  float64       \n",
            " 8   Property Type     214090 non-null  object        \n",
            " 9   Residential Type  214090 non-null  object        \n",
            " 10  Location          214090 non-null  object        \n",
            " 11  Longitude         214090 non-null  float64       \n",
            " 12  Latitude          214090 non-null  float64       \n",
            " 13  Valid Sale        214090 non-null  bool          \n",
            " 14  Valid Assessed    214090 non-null  bool          \n",
            "dtypes: bool(2), datetime64[ns](1), float64(5), int64(2), object(5)\n",
            "memory usage: 23.3+ MB\n",
            "None\n"
          ]
        }
      ]
    },
    {
      "cell_type": "markdown",
      "source": [
        "* We use `.head()` to show the first few rows of the cleaned dataset, which helps us quickly verify that the data looks correct after all the cleaning steps."
      ],
      "metadata": {
        "id": "ZWGJ9-O9BsyN"
      }
    },
    {
      "cell_type": "code",
      "source": [
        "print(\"\\n First few rows of cleaned data:\")\n",
        "print(real_estate_df.head())"
      ],
      "metadata": {
        "colab": {
          "base_uri": "https://localhost:8080/"
        },
        "id": "DW7HvFyBZvDj",
        "outputId": "d2147465-30d7-4238-c8ba-584f91a5e466"
      },
      "execution_count": 76,
      "outputs": [
        {
          "output_type": "stream",
          "name": "stdout",
          "text": [
            "\n",
            " First few rows of cleaned data:\n",
            "    Serial Number  List Year Date Recorded        Town         Address  \\\n",
            "0         2020177       2020    2021-04-14     Ansonia   323 BEAVER ST   \n",
            "4          210288       2021    2022-06-20        Avon  12 BYRON DRIVE   \n",
            "6          200121       2020    2020-12-15        Avon    63 NORTHGATE   \n",
            "32         212150       2021    2022-08-30  Bridgeport  126 KENNEDY DR   \n",
            "37          20188       2020    2021-07-19  Burlington    206 COVEY RD   \n",
            "\n",
            "    Assessed Value  Sale Amount  Sales Ratio Property Type Residential Type  \\\n",
            "0         133000.0     248400.0       0.5354   Residential    Single Family   \n",
            "4         179990.0     362500.0       0.4965   Residential            Condo   \n",
            "6         528490.0     775000.0       0.6819   Residential    Single Family   \n",
            "32         70850.0     130000.0       0.5450   Residential            Condo   \n",
            "37        286860.0     540000.0       0.5312   Residential    Single Family   \n",
            "\n",
            "                              Location  Longitude   Latitude  Valid Sale  \\\n",
            "0           POINT (-73.06822 41.35014) -73.068220  41.350140        True   \n",
            "4   POINT (-72.879115982 41.773452988) -72.879116  41.773453        True   \n",
            "6           POINT (-72.89675 41.79445) -72.896750  41.794450        True   \n",
            "32  POINT (-73.221583028 41.214441988) -73.221583  41.214442        True   \n",
            "37          POINT (-72.97635 41.79258) -72.976350  41.792580        True   \n",
            "\n",
            "    Valid Assessed  \n",
            "0             True  \n",
            "4             True  \n",
            "6             True  \n",
            "32            True  \n",
            "37            True  \n"
          ]
        }
      ]
    },
    {
      "cell_type": "markdown",
      "source": [
        "* We use `.isnull().sum()` to check how many missing values are present in each column of the dataset, which helps us verify that missing data has been properly handled after the cleaning steps."
      ],
      "metadata": {
        "id": "-JjUb5klB4py"
      }
    },
    {
      "cell_type": "code",
      "source": [
        "real_estate_df.isnull().sum()"
      ],
      "metadata": {
        "colab": {
          "base_uri": "https://localhost:8080/",
          "height": 554
        },
        "id": "m4pX6iiVB79e",
        "outputId": "7326c71b-e7e2-41f3-acc4-91b21e07e255"
      },
      "execution_count": 77,
      "outputs": [
        {
          "output_type": "execute_result",
          "data": {
            "text/plain": [
              "Serial Number       0\n",
              "List Year           0\n",
              "Date Recorded       0\n",
              "Town                0\n",
              "Address             0\n",
              "Assessed Value      0\n",
              "Sale Amount         0\n",
              "Sales Ratio         0\n",
              "Property Type       0\n",
              "Residential Type    0\n",
              "Location            0\n",
              "Longitude           0\n",
              "Latitude            0\n",
              "Valid Sale          0\n",
              "Valid Assessed      0\n",
              "dtype: int64"
            ],
            "text/html": [
              "<div>\n",
              "<style scoped>\n",
              "    .dataframe tbody tr th:only-of-type {\n",
              "        vertical-align: middle;\n",
              "    }\n",
              "\n",
              "    .dataframe tbody tr th {\n",
              "        vertical-align: top;\n",
              "    }\n",
              "\n",
              "    .dataframe thead th {\n",
              "        text-align: right;\n",
              "    }\n",
              "</style>\n",
              "<table border=\"1\" class=\"dataframe\">\n",
              "  <thead>\n",
              "    <tr style=\"text-align: right;\">\n",
              "      <th></th>\n",
              "      <th>0</th>\n",
              "    </tr>\n",
              "  </thead>\n",
              "  <tbody>\n",
              "    <tr>\n",
              "      <th>Serial Number</th>\n",
              "      <td>0</td>\n",
              "    </tr>\n",
              "    <tr>\n",
              "      <th>List Year</th>\n",
              "      <td>0</td>\n",
              "    </tr>\n",
              "    <tr>\n",
              "      <th>Date Recorded</th>\n",
              "      <td>0</td>\n",
              "    </tr>\n",
              "    <tr>\n",
              "      <th>Town</th>\n",
              "      <td>0</td>\n",
              "    </tr>\n",
              "    <tr>\n",
              "      <th>Address</th>\n",
              "      <td>0</td>\n",
              "    </tr>\n",
              "    <tr>\n",
              "      <th>Assessed Value</th>\n",
              "      <td>0</td>\n",
              "    </tr>\n",
              "    <tr>\n",
              "      <th>Sale Amount</th>\n",
              "      <td>0</td>\n",
              "    </tr>\n",
              "    <tr>\n",
              "      <th>Sales Ratio</th>\n",
              "      <td>0</td>\n",
              "    </tr>\n",
              "    <tr>\n",
              "      <th>Property Type</th>\n",
              "      <td>0</td>\n",
              "    </tr>\n",
              "    <tr>\n",
              "      <th>Residential Type</th>\n",
              "      <td>0</td>\n",
              "    </tr>\n",
              "    <tr>\n",
              "      <th>Location</th>\n",
              "      <td>0</td>\n",
              "    </tr>\n",
              "    <tr>\n",
              "      <th>Longitude</th>\n",
              "      <td>0</td>\n",
              "    </tr>\n",
              "    <tr>\n",
              "      <th>Latitude</th>\n",
              "      <td>0</td>\n",
              "    </tr>\n",
              "    <tr>\n",
              "      <th>Valid Sale</th>\n",
              "      <td>0</td>\n",
              "    </tr>\n",
              "    <tr>\n",
              "      <th>Valid Assessed</th>\n",
              "      <td>0</td>\n",
              "    </tr>\n",
              "  </tbody>\n",
              "</table>\n",
              "</div><br><label><b>dtype:</b> int64</label>"
            ]
          },
          "metadata": {},
          "execution_count": 77
        }
      ]
    },
    {
      "cell_type": "markdown",
      "source": [
        "* We saved the cleaned dataset to a new CSV file named `cleaned_real_estate_data.csv`."
      ],
      "metadata": {
        "id": "1ehJDUOuGvNo"
      }
    },
    {
      "cell_type": "code",
      "source": [
        "real_estate_df.to_csv('cleaned_real_estate_data.csv', index=False)\n",
        "\n",
        "print(\"Cleaned dataset has been saved to 'cleaned_real_estate_data.csv'\")\n"
      ],
      "metadata": {
        "id": "peO8qwe6Zwye",
        "colab": {
          "base_uri": "https://localhost:8080/"
        },
        "outputId": "a934e9cc-e392-415e-c310-241dd798d5df"
      },
      "execution_count": 80,
      "outputs": [
        {
          "output_type": "stream",
          "name": "stdout",
          "text": [
            "Cleaned dataset has been saved to 'cleaned_real_estate_data.csv'\n"
          ]
        }
      ]
    },
    {
      "cell_type": "markdown",
      "source": [
        "# 4. Exploratory Data Analysis (EDA)\n",
        "\n",
        "In this section, we explore the cleaned real estate dataset to understand trends, relationships, and distributions in the data. We will use summary statistics and visualizations to reveal patterns that may help in deeper analysis."
      ],
      "metadata": {
        "id": "g9a3mArZG-gf"
      }
    },
    {
      "cell_type": "markdown",
      "source": [
        "## 4.1 Basic Summary Statistics\n",
        "\n",
        "We use `.describe()` to view the distribution of numeric columns. From this, we can understand the general range, mean, and presence of outliers in features like `Sale Amount`, `Assessed Value`, and `Sales Ratio`."
      ],
      "metadata": {
        "id": "BQ5nlcAqHrMQ"
      }
    },
    {
      "cell_type": "code",
      "source": [
        "# Summary statistics for numeric columns\n",
        "summary = real_estate_df[['Sale Amount', 'Assessed Value', 'Sales Ratio']].describe().T\n",
        "summary.style.background_gradient(cmap='Blues').format(\"{:,.2f}\")"
      ],
      "metadata": {
        "colab": {
          "base_uri": "https://localhost:8080/",
          "height": 143
        },
        "id": "W1-qwH-sHch0",
        "outputId": "c8800874-f1c5-4629-8a34-0b281940f3d4"
      },
      "execution_count": 89,
      "outputs": [
        {
          "output_type": "execute_result",
          "data": {
            "text/plain": [
              "<pandas.io.formats.style.Styler at 0x784f253582d0>"
            ],
            "text/html": [
              "<style type=\"text/css\">\n",
              "#T_2230c_row0_col0, #T_2230c_row0_col3, #T_2230c_row1_col0, #T_2230c_row1_col3, #T_2230c_row2_col0, #T_2230c_row2_col1, #T_2230c_row2_col2, #T_2230c_row2_col3, #T_2230c_row2_col4, #T_2230c_row2_col5, #T_2230c_row2_col6, #T_2230c_row2_col7 {\n",
              "  background-color: #f7fbff;\n",
              "  color: #000000;\n",
              "}\n",
              "#T_2230c_row0_col1, #T_2230c_row0_col2, #T_2230c_row0_col4, #T_2230c_row0_col5, #T_2230c_row0_col6, #T_2230c_row0_col7 {\n",
              "  background-color: #08306b;\n",
              "  color: #f1f1f1;\n",
              "}\n",
              "#T_2230c_row1_col1 {\n",
              "  background-color: #4695c8;\n",
              "  color: #f1f1f1;\n",
              "}\n",
              "#T_2230c_row1_col2 {\n",
              "  background-color: #125ea6;\n",
              "  color: #f1f1f1;\n",
              "}\n",
              "#T_2230c_row1_col4 {\n",
              "  background-color: #4090c5;\n",
              "  color: #f1f1f1;\n",
              "}\n",
              "#T_2230c_row1_col5, #T_2230c_row1_col6 {\n",
              "  background-color: #4f9bcb;\n",
              "  color: #f1f1f1;\n",
              "}\n",
              "#T_2230c_row1_col7 {\n",
              "  background-color: #cde0f1;\n",
              "  color: #000000;\n",
              "}\n",
              "</style>\n",
              "<table id=\"T_2230c\" class=\"dataframe\">\n",
              "  <thead>\n",
              "    <tr>\n",
              "      <th class=\"blank level0\" >&nbsp;</th>\n",
              "      <th id=\"T_2230c_level0_col0\" class=\"col_heading level0 col0\" >count</th>\n",
              "      <th id=\"T_2230c_level0_col1\" class=\"col_heading level0 col1\" >mean</th>\n",
              "      <th id=\"T_2230c_level0_col2\" class=\"col_heading level0 col2\" >std</th>\n",
              "      <th id=\"T_2230c_level0_col3\" class=\"col_heading level0 col3\" >min</th>\n",
              "      <th id=\"T_2230c_level0_col4\" class=\"col_heading level0 col4\" >25%</th>\n",
              "      <th id=\"T_2230c_level0_col5\" class=\"col_heading level0 col5\" >50%</th>\n",
              "      <th id=\"T_2230c_level0_col6\" class=\"col_heading level0 col6\" >75%</th>\n",
              "      <th id=\"T_2230c_level0_col7\" class=\"col_heading level0 col7\" >max</th>\n",
              "    </tr>\n",
              "  </thead>\n",
              "  <tbody>\n",
              "    <tr>\n",
              "      <th id=\"T_2230c_level0_row0\" class=\"row_heading level0 row0\" >Sale Amount</th>\n",
              "      <td id=\"T_2230c_row0_col0\" class=\"data row0 col0\" >214,090.00</td>\n",
              "      <td id=\"T_2230c_row0_col1\" class=\"data row0 col1\" >415,593.73</td>\n",
              "      <td id=\"T_2230c_row0_col2\" class=\"data row0 col2\" >1,114,361.76</td>\n",
              "      <td id=\"T_2230c_row0_col3\" class=\"data row0 col3\" >0.00</td>\n",
              "      <td id=\"T_2230c_row0_col4\" class=\"data row0 col4\" >175,000.00</td>\n",
              "      <td id=\"T_2230c_row0_col5\" class=\"data row0 col5\" >275,000.00</td>\n",
              "      <td id=\"T_2230c_row0_col6\" class=\"data row0 col6\" >425,000.00</td>\n",
              "      <td id=\"T_2230c_row0_col7\" class=\"data row0 col7\" >318,790,019.00</td>\n",
              "    </tr>\n",
              "    <tr>\n",
              "      <th id=\"T_2230c_level0_row1\" class=\"row_heading level0 row1\" >Assessed Value</th>\n",
              "      <td id=\"T_2230c_row1_col0\" class=\"data row1 col0\" >214,090.00</td>\n",
              "      <td id=\"T_2230c_row1_col1\" class=\"data row1 col1\" >254,614.27</td>\n",
              "      <td id=\"T_2230c_row1_col2\" class=\"data row1 col2\" >914,932.48</td>\n",
              "      <td id=\"T_2230c_row1_col3\" class=\"data row1 col3\" >0.00</td>\n",
              "      <td id=\"T_2230c_row1_col4\" class=\"data row1 col4\" >110,390.00</td>\n",
              "      <td id=\"T_2230c_row1_col5\" class=\"data row1 col5\" >160,075.00</td>\n",
              "      <td id=\"T_2230c_row1_col6\" class=\"data row1 col6\" >248,885.00</td>\n",
              "      <td id=\"T_2230c_row1_col7\" class=\"data row1 col7\" >68,646,970.00</td>\n",
              "    </tr>\n",
              "    <tr>\n",
              "      <th id=\"T_2230c_level0_row2\" class=\"row_heading level0 row2\" >Sales Ratio</th>\n",
              "      <td id=\"T_2230c_row2_col0\" class=\"data row2 col0\" >214,090.00</td>\n",
              "      <td id=\"T_2230c_row2_col1\" class=\"data row2 col1\" >7.20</td>\n",
              "      <td id=\"T_2230c_row2_col2\" class=\"data row2 col2\" >2,668.58</td>\n",
              "      <td id=\"T_2230c_row2_col3\" class=\"data row2 col3\" >0.00</td>\n",
              "      <td id=\"T_2230c_row2_col4\" class=\"data row2 col4\" >0.49</td>\n",
              "      <td id=\"T_2230c_row2_col5\" class=\"data row2 col5\" >0.59</td>\n",
              "      <td id=\"T_2230c_row2_col6\" class=\"data row2 col6\" >0.74</td>\n",
              "      <td id=\"T_2230c_row2_col7\" class=\"data row2 col7\" >1,226,420.00</td>\n",
              "    </tr>\n",
              "  </tbody>\n",
              "</table>\n"
            ]
          },
          "metadata": {},
          "execution_count": 89
        }
      ]
    },
    {
      "cell_type": "markdown",
      "source": [
        "## 4.2  Distribution of Numeric Features Using Histograms\n",
        "\n",
        "We used `.hist()` to generate histograms for all numeric columns in the dataset. This gives us a quick overview of how values are distributed across the dataset and helps us identify patterns, skewness, and potential outliers."
      ],
      "metadata": {
        "id": "cFSFeVpPICKx"
      }
    },
    {
      "cell_type": "code",
      "source": [
        "import numpy as np\n",
        "import matplotlib.pyplot as plt\n",
        "import seaborn as sns\n",
        "\n",
        "real_estate_df.hist(figsize=(15,10),\n",
        "                              bins=30,\n",
        "                              edgecolor=\"black\")\n",
        "plt.subplots_adjust(hspace=0.7, wspace=0.4)\n",
        "plt.suptitle(\"Distribution of Real Estate\")\n",
        "plt.tight_layout()\n"
      ],
      "metadata": {
        "colab": {
          "base_uri": "https://localhost:8080/",
          "height": 691
        },
        "id": "QS5f3S0zcOHl",
        "outputId": "8bafc984-be67-4595-f1c4-1bddc594325e"
      },
      "execution_count": 83,
      "outputs": [
        {
          "output_type": "display_data",
          "data": {
            "text/plain": [
              "<Figure size 1500x1000 with 9 Axes>"
            ],
            "image/png": "[encoded data removed]"
          },
          "metadata": {}
        }
      ]
    },
    {
      "cell_type": "markdown",
      "source": [
        "## 4.3 Sale Amount Distribution Using Log-Scale Histogram\n",
        "\n",
        "We are using a histogram with a log scale on the X-axis to better see how Sale Amount values are spread out. Property prices can be very different some homes sell for just a few thousand dollars, while others sell for millions\n",
        "\n",
        "This makes it easier to analyze the overall distribution of sale amounts without the results being dominated by outliers."
      ],
      "metadata": {
        "id": "mtb7jZVcJTJ0"
      }
    },
    {
      "cell_type": "code",
      "source": [
        "\n",
        "\n",
        "plt.figure(figsize=(10, 5))\n",
        "sns.histplot(real_estate_df['Sale Amount'], kde=True, bins=100, log_scale=(True, False))\n",
        "plt.title('Log-Scale Distribution of Sale Amounts')\n",
        "plt.xlabel('Sale Amount (Log Scale)')\n",
        "plt.ylabel('Frequency')\n",
        "plt.grid(True)\n",
        "plt.show()\n"
      ],
      "metadata": {
        "colab": {
          "base_uri": "https://localhost:8080/",
          "height": 492
        },
        "id": "JuVUjXQfZ5aU",
        "outputId": "b93da289-39c3-4795-d591-c6ccbdd98d93"
      },
      "execution_count": 90,
      "outputs": [
        {
          "output_type": "display_data",
          "data": {
            "text/plain": [
              "<Figure size 1000x500 with 1 Axes>"
            ],
            "image/png": "[encoded data removed]"
          },
          "metadata": {}
        }
      ]
    },
    {
      "cell_type": "markdown",
      "source": [
        "* The above graph shows that most property sales fall between `$100,000` and `$1,000,000`, with fewer very low or very high sales, following a log-normal distribution.\n"
      ],
      "metadata": {
        "id": "0DkerV-PKX6n"
      }
    },
    {
      "cell_type": "markdown",
      "source": [
        "## Proportion of Sale Amounts by Property Type (Under $1M) Using Pie Chart\n",
        "\n",
        "We filtered the dataset to include only properties with a Sale Amount less than $1,000,000 to focus on the more typical transactions. Then, we grouped the data by Property Type and calculated the total sale amount for each category."
      ],
      "metadata": {
        "id": "irsEFFrBLIZ-"
      }
    },
    {
      "cell_type": "code",
      "source": [
        "# Filter data\n",
        "amount_under_1_000_000_df = real_estate_df[real_estate_df['Sale Amount'] < 1_000_000]\n",
        "\n",
        "# Group by property type and sum sale amount\n",
        "grouped = amount_under_1_000_000_df.groupby('Property Type')['Sale Amount'].sum()\n",
        "\n",
        "# Plot pie chart\n",
        "plt.figure(figsize=(10, 6))\n",
        "plt.pie(grouped,\n",
        "        labels=grouped.index,\n",
        "        autopct='%1.1f%%',\n",
        "        startangle=140,\n",
        "        colors = sns.color_palette(\"viridis\", len(grouped)))\n",
        "\n",
        "plt.title('Proportion of Sale Amounts by Property Type (under $1M)')\n",
        "plt.tight_layout()\n",
        "plt.show()"
      ],
      "metadata": {
        "colab": {
          "base_uri": "https://localhost:8080/",
          "height": 607
        },
        "id": "r0Rn0T4kb6nr",
        "outputId": "3ef33a3b-98af-4a8a-89d9-3ec30bd6b250"
      },
      "execution_count": 92,
      "outputs": [
        {
          "output_type": "display_data",
          "data": {
            "text/plain": [
              "<Figure size 1000x600 with 1 Axes>"
            ],
            "image/png": "[encoded data removed]"
          },
          "metadata": {}
        }
      ]
    },
    {
      "cell_type": "markdown",
      "source": [
        "* The pie chart shows that `Residential` and `Single Family` properties together account for `over 90%` of total sale amounts for properties priced under $1 million."
      ],
      "metadata": {
        "id": "vm3amLvVLXCP"
      }
    },
    {
      "cell_type": "markdown",
      "source": [
        "## 4.4 Distribution of Sale Amounts Bottom 95% Using Histogram\n",
        "\n",
        "This is a histogram that shows how most property sale amounts are spread out, after removing the top 5% of the highest-priced sales. By focusing on the bottom 95%, we get a better view of the common sale prices, without the chart being affected by a few very expensive properties.\n",
        "\n",
        "The smooth curve (KDE line) helps us see the overall shape of the distribution more clearly."
      ],
      "metadata": {
        "id": "CSfI2xrpL810"
      }
    },
    {
      "cell_type": "code",
      "source": [
        "plt.figure(figsize=(10, 5))\n",
        "filtered = real_estate_df[real_estate_df['Sale Amount'] < real_estate_df['Sale Amount'].quantile(0.95)]\n",
        "\n",
        "sns.histplot(filtered['Sale Amount'], kde=True, bins=50)\n",
        "plt.title('Distribution of Sale Amounts (Bottom 95%)')\n",
        "plt.xlabel('Sale Amount')\n",
        "plt.ylabel('Frequency')\n",
        "plt.grid(True)\n",
        "plt.show()\n"
      ],
      "metadata": {
        "colab": {
          "base_uri": "https://localhost:8080/",
          "height": 487
        },
        "id": "wRWyuO0kZ78x",
        "outputId": "e1518808-6e72-40e1-95fd-71e42237a522"
      },
      "execution_count": 93,
      "outputs": [
        {
          "output_type": "display_data",
          "data": {
            "text/plain": [
              "<Figure size 1000x500 with 1 Axes>"
            ],
            "image/png": "[encoded data removed]"
          },
          "metadata": {}
        }
      ]
    },
    {
      "cell_type": "markdown",
      "source": [
        "* The above graph shows that most houses were sold for prices between `$100,000` and `$400,000`, and as the price goes higher, the number of sales goes down."
      ],
      "metadata": {
        "id": "Z1s9HsheMiFn"
      }
    },
    {
      "cell_type": "code",
      "source": [
        "plt.figure(figsize=(12, 6))\n",
        "sns.boxplot(data=cleaned_df, x='Property Type', y='Sale Amount')\n",
        "plt.yscale('log')\n",
        "plt.xticks(rotation=45)\n",
        "plt.title('Sale Amount by Property Type (Log Scale)')\n",
        "plt.tight_layout()\n",
        "plt.show()"
      ],
      "metadata": {
        "id": "3XH7QCyBZ-gi"
      },
      "execution_count": null,
      "outputs": []
    },
    {
      "cell_type": "code",
      "source": [
        "sample_scatter = cleaned_df[\n",
        "    (cleaned_df['Assessed Value'] < cleaned_df['Assessed Value'].quantile(0.99)) &\n",
        "    (cleaned_df['Sale Amount'] < cleaned_df['Sale Amount'].quantile(0.99))\n",
        "].sample(10000, random_state=42)\n",
        "\n",
        "plt.figure(figsize=(10, 6))\n",
        "sns.scatterplot(data=sample_scatter, x='Assessed Value', y='Sale Amount', alpha=0.4)\n",
        "plt.title('Assessed Value vs Sale Amount (Sampled, Bottom 99%)')\n",
        "plt.grid(True)\n",
        "plt.tight_layout()\n",
        "plt.show()\n"
      ],
      "metadata": {
        "id": "fW8HDCc1aC-p"
      },
      "execution_count": null,
      "outputs": []
    },
    {
      "cell_type": "code",
      "source": [
        "plt.figure(figsize=(10, 6))\n",
        "sns.kdeplot(\n",
        "    data=sample_scatter,\n",
        "    x=\"Assessed Value\", y=\"Sale Amount\",\n",
        "    fill=True, cmap=\"Blues\", thresh=0.01\n",
        ")\n",
        "plt.title('2D Density: Assessed vs Sale Amount')\n",
        "plt.grid(True)\n",
        "plt.tight_layout()\n",
        "plt.show()\n"
      ],
      "metadata": {
        "id": "EKyLfj2NaF91"
      },
      "execution_count": null,
      "outputs": []
    },
    {
      "cell_type": "code",
      "source": [
        "#Distribution Of Sales Ration\n",
        "\n",
        "import numpy as np\n",
        "import matplotlib.pyplot as plt\n",
        "import seaborn as sns\n",
        "\n",
        "# Step 1: Create Sales Ratio if not already present\n",
        "cleaned_df['Sales Ratio'] = cleaned_df['Sale Amount'] / cleaned_df['Assessed Value']\n",
        "cleaned_df['Sales Ratio'].replace([np.inf, -np.inf], np.nan, inplace=True)\n",
        "sales_ratio_filtered = cleaned_df['Sales Ratio'].dropna()\n",
        "sales_ratio_filtered = sales_ratio_filtered[sales_ratio_filtered < sales_ratio_filtered.quantile(0.99)]\n",
        "\n",
        "# Step 2: Plot the distribution\n",
        "plt.figure(figsize=(10, 5))\n",
        "sns.histplot(sales_ratio_filtered, kde=True, bins=50, color='purple')\n",
        "plt.title('Distribution of Sales Ratio (Sale Amount / Assessed Value)')\n",
        "plt.xlabel('Sales Ratio')\n",
        "plt.ylabel('Frequency')\n",
        "plt.grid(True)\n",
        "plt.tight_layout()\n",
        "plt.show()\n"
      ],
      "metadata": {
        "id": "ufTXsPq4aIiJ"
      },
      "execution_count": null,
      "outputs": []
    },
    {
      "cell_type": "code",
      "source": [
        "top_res_types = cleaned_df['Residential Type'].value_counts().head(8).index\n",
        "filtered_res = cleaned_df[cleaned_df['Residential Type'].isin(top_res_types)]\n",
        "\n",
        "plt.figure(figsize=(12, 6))\n",
        "sns.barplot(data=filtered_res, x='Residential Type', y='Sale Amount', estimator=np.mean, ci=None)\n",
        "plt.title('Average Sale Amount by Residential Type (Top 8)')\n",
        "plt.xticks(rotation=45)\n",
        "plt.ylabel('Average Sale Price ($)')\n",
        "plt.tight_layout()\n",
        "plt.show()\n",
        "\n",
        "\n"
      ],
      "metadata": {
        "id": "OY7gIqrYaLQk"
      },
      "execution_count": null,
      "outputs": []
    },
    {
      "cell_type": "code",
      "source": [
        "yearly_avg = cleaned_df.groupby('List Year')['Sale Amount'].mean().reset_index()\n",
        "\n",
        "plt.figure(figsize=(12, 6))\n",
        "sns.lineplot(data=yearly_avg, x='List Year', y='Sale Amount', marker='o')\n",
        "plt.title('Yearly Average Sale Amount')\n",
        "plt.ylabel('Average Sale Price ($)')\n",
        "plt.grid(True)\n",
        "plt.tight_layout()\n",
        "plt.show()\n"
      ],
      "metadata": {
        "id": "YzEbXfCqaNcF"
      },
      "execution_count": null,
      "outputs": []
    },
    {
      "cell_type": "code",
      "source": [
        "import pandas as pd\n",
        "\n",
        "# Ensure datetime is correct\n",
        "cleaned_df['Date Recorded'] = pd.to_datetime(cleaned_df['Date Recorded'], errors='coerce')\n",
        "cleaned_df['Year'] = cleaned_df['Date Recorded'].dt.year\n",
        "cleaned_df['Month'] = cleaned_df['Date Recorded'].dt.month\n",
        "\n",
        "# Group and count transactions\n",
        "monthly_trx = cleaned_df.groupby(['Year', 'Month']).size().reset_index(name='Transaction Count')\n",
        "\n",
        "# Get peak month for each year\n",
        "peak_months_by_year = monthly_trx.loc[monthly_trx.groupby('Year')['Transaction Count'].idxmax()].sort_values('Year')\n",
        "peak_months_by_year\n"
      ],
      "metadata": {
        "id": "ZQT7x2wRaPyx"
      },
      "execution_count": null,
      "outputs": []
    },
    {
      "cell_type": "code",
      "source": [
        "# Ensure 'Date Recorded' is in datetime format\n",
        "df['Date Recorded'] = pd.to_datetime(df['Date Recorded'], errors='coerce')\n",
        "\n",
        "# Extract month name\n",
        "df['Month Name'] = df['Date Recorded'].dt.month_name()\n",
        "\n",
        "# Define month order\n",
        "month_order = ['January', 'February', 'March', 'April', 'May', 'June',\n",
        "               'July', 'August', 'September', 'October', 'November', 'December']\n",
        "\n",
        "# Convert to categorical with order\n",
        "df['Month Name'] = pd.Categorical(df['Month Name'], categories=month_order, ordered=True)\n",
        "\n",
        "# Count values and drop NaN months (if any)\n",
        "month_counts = df['Month Name'].value_counts().sort_index()\n",
        "\n",
        "# Plot as horizontal bar chart\n",
        "plt.figure(figsize=(10, 6))\n",
        "sns.barplot(x=month_counts.index, y=month_counts.values, palette='viridis')\n",
        "plt.title('Peak Month Frequency Across All Years')\n",
        "plt.xlabel('Number of Times a Month Was the Peak')\n",
        "plt.ylabel('Month')\n",
        "plt.tight_layout()\n",
        "plt.show()"
      ],
      "metadata": {
        "id": "wBPhCREjaYFK"
      },
      "execution_count": null,
      "outputs": []
    },
    {
      "cell_type": "code",
      "source": [
        "# Ensure correct datetime format and extract year\n",
        "cleaned_df['Date Recorded'] = pd.to_datetime(cleaned_df['Date Recorded'], errors='coerce')\n",
        "cleaned_df['Year'] = cleaned_df['Date Recorded'].dt.year\n",
        "\n",
        "# Drop rows with missing Town, Year, or Sale Amount\n",
        "df_filtered = cleaned_df.dropna(subset=['Town', 'Year', 'Sale Amount'])\n",
        "\n",
        "# Step 1: Get top 10 towns by total number of records\n",
        "top_towns = df_filtered['Town'].value_counts().nlargest(10).index\n",
        "\n",
        "# Step 2: Filter for those towns only\n",
        "df_top_towns = df_filtered[df_filtered['Town'].isin(top_towns)]\n",
        "\n",
        "# Step 3: Group by Town and Year and sum Sale Amount\n",
        "grouped = df_top_towns.groupby(['Town', 'Year'])['Sale Amount'].sum().reset_index()\n",
        "\n",
        "# Step 4: Pivot table to create heatmap-ready structure\n",
        "heatmap_data = grouped.pivot(index='Town', columns='Year', values='Sale Amount')\n",
        "\n",
        "# Step 5: Plot heatmap\n",
        "plt.figure(figsize=(14, 8))\n",
        "sns.heatmap(heatmap_data, cmap='YlGnBu', linewidths=0.5, annot=True, fmt='.0f')\n",
        "plt.title('Total Sale Amount by Town and Year')\n",
        "plt.xlabel('Year')\n",
        "plt.ylabel('Town')\n",
        "plt.tight_layout()\n",
        "plt.show()"
      ],
      "metadata": {
        "id": "e-Kt94PNbmeT"
      },
      "execution_count": null,
      "outputs": []
    },
    {
      "cell_type": "code",
      "source": [
        "\n",
        "top_towns = df.groupby('Town')['Sale Amount'].mean().sort_values(ascending=False).head(10)\n",
        "plt.figure(figsize=(10, 6))\n",
        "sns.barplot(x=top_towns.index, y=top_towns.values, palette='mako')\n",
        "plt.title(\"Top 10 Towns by Average Sale Amount\")\n",
        "plt.xlabel(\"Average Sale Amount\")\n",
        "plt.ylabel(\"Town\")\n",
        "plt.tight_layout()\n",
        "plt.show()\n",
        "\n"
      ],
      "metadata": {
        "id": "tO8tqa2pbole"
      },
      "execution_count": null,
      "outputs": []
    },
    {
      "cell_type": "code",
      "source": [
        "# Ensure 'Date Recorded' is datetime and set index\n",
        "cleaned_df['Date Recorded'] = pd.to_datetime(cleaned_df['Date Recorded'], errors='coerce')\n",
        "monthly_sales = cleaned_df.set_index('Date Recorded').resample('M')['Sale Amount'].sum()\n",
        "\n",
        "# Plot rolling average\n",
        "plt.figure(figsize=(14, 6))\n",
        "monthly_sales.rolling(window=6).mean().plot(color='teal', linewidth=2)\n",
        "plt.title('6-Month Rolling Average of Total Monthly Sale Amounts')\n",
        "plt.ylabel('Total Sale Amount ($)')\n",
        "plt.xlabel('Date')\n",
        "plt.grid(True)\n",
        "plt.tight_layout()\n",
        "plt.show()\n"
      ],
      "metadata": {
        "id": "hM1jiIgjbsUm"
      },
      "execution_count": null,
      "outputs": []
    },
    {
      "cell_type": "code",
      "source": [
        "# Get top 5 towns by count\n",
        "top_5_towns = cleaned_df['Town'].value_counts().nlargest(5).index\n",
        "filtered_violin = cleaned_df[cleaned_df['Town'].isin(top_5_towns)]\n",
        "\n",
        "# Plot violin plot\n",
        "plt.figure(figsize=(12, 6))\n",
        "sns.violinplot(data=filtered_violin, x='Town', y='Sale Amount', scale='width', inner='quartile')\n",
        "plt.yscale('log')\n",
        "plt.title('Distribution of Sale Amounts in Top 5 Towns (Log Scale)')\n",
        "plt.grid(True)\n",
        "plt.tight_layout()\n",
        "plt.show()"
      ],
      "metadata": {
        "id": "I9Le48QmbuNx"
      },
      "execution_count": null,
      "outputs": []
    },
    {
      "cell_type": "code",
      "source": [
        "# Bar Chart: Top 10 Towns by Transaction Count\n",
        "top_town_transaction_counts = df['Town'].value_counts().head(10)\n",
        "\n",
        "plt.figure(figsize=(10, 6))\n",
        "sns.barplot(x=top_town_transaction_counts.values, y=top_town_transaction_counts.index, palette='Set2')\n",
        "plt.title('Top 10 Towns by Transaction Count')\n",
        "plt.xlabel('Number of Transactions')\n",
        "plt.ylabel('Town')\n",
        "plt.tight_layout()\n",
        "plt.show()\n"
      ],
      "metadata": {
        "id": "-PhHYaSHfx-O"
      },
      "execution_count": null,
      "outputs": []
    },
    {
      "cell_type": "code",
      "source": [
        "# Add Sales Ratio if not present\n",
        "if 'Sales Ratio' not in cleaned_df.columns and 'Assessed Value' in cleaned_df.columns:\n",
        "    cleaned_df['Sales Ratio'] = cleaned_df['Sale Amount'] / cleaned_df['Assessed Value']\n",
        "    cleaned_df['Sales Ratio'].replace([np.inf, -np.inf], np.nan, inplace=True)\n",
        "\n",
        "# Plot correlation heatmap\n",
        "numeric_cols = ['Sale Amount', 'Assessed Value', 'Sales Ratio']\n",
        "corr_matrix = cleaned_df[numeric_cols].corr()\n",
        "\n",
        "plt.figure(figsize=(6, 4))\n",
        "sns.heatmap(corr_matrix, annot=True, cmap='coolwarm', fmt=\".2f\")\n",
        "plt.title('Correlation Matrix Between Key Numerical Features')\n",
        "plt.tight_layout()\n",
        "plt.show()\n"
      ],
      "metadata": {
        "id": "GHZGp--Gbwvz"
      },
      "execution_count": null,
      "outputs": []
    },
    {
      "cell_type": "code",
      "source": [
        "plt.figure(figsize=(10, 6))\n",
        "df['Property Type'].value_counts().head(10).plot(kind='barh')\n",
        "plt.title(\"Top 10 Property Types\")\n",
        "plt.xlabel(\"Count\")\n",
        "plt.tight_layout()\n",
        "plt.show()\n"
      ],
      "metadata": {
        "id": "wmZ8S3qpdbcB"
      },
      "execution_count": null,
      "outputs": []
    }
  ]
}